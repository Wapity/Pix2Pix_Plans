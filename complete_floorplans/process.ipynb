{
  "cells": [
    {
      "cell_type": "code",
      "source": [
        "import pandas as pd\n",
        "import matplotlib.pyplot as plt\n",
        "import cv2\n",
        "import numpy as np\n",
        "import os\n",
        "import glob\n",
        "import torch "
      ],
      "outputs": [],
      "execution_count": 17,
      "metadata": {
        "collapsed": true,
        "outputExpanded": false,
        "jupyter": {
          "source_hidden": false,
          "outputs_hidden": false
        },
        "nteract": {
          "transient": {
            "deleting": false
          }
        },
        "execution": {
          "iopub.status.busy": "2020-05-24T12:47:09.125Z",
          "iopub.execute_input": "2020-05-24T12:47:09.129Z",
          "iopub.status.idle": "2020-05-24T12:47:09.134Z",
          "shell.execute_reply": "2020-05-24T12:47:09.137Z"
        }
      }
    },
    {
      "cell_type": "code",
      "source": [
        "path = 'sample/'\n",
        "files = [path + file for file in os.listdir(path)]\n",
        "print(files)\n"
      ],
      "outputs": [
        {
          "output_type": "stream",
          "name": "stdout",
          "text": [
            "['sample/0001_wall.png', 'sample/0001_door.png', 'sample/0001_corner.png', 'sample/0001_window.png', 'sample/0001_entrance.png', 'sample/0001_shape.png', 'sample/0001_room.png']\n"
          ]
        }
      ],
      "execution_count": 18,
      "metadata": {
        "collapsed": true,
        "outputExpanded": false,
        "jupyter": {
          "source_hidden": false,
          "outputs_hidden": false
        },
        "nteract": {
          "transient": {
            "deleting": false
          }
        },
        "execution": {
          "shell.execute_reply": "2020-05-24T12:47:09.404Z",
          "iopub.status.busy": "2020-05-24T12:47:09.390Z",
          "iopub.execute_input": "2020-05-24T12:47:09.393Z",
          "iopub.status.idle": "2020-05-24T12:47:09.400Z"
        }
      }
    },
    {
      "cell_type": "code",
      "source": [
        "def load_im(file):\n",
        "    image_bgr = cv2.imread(file)\n",
        "    h, w, c = image_bgr.shape\n",
        "    image_bgra = np.concatenate([image_bgr, np.full((h, w, 1), 255, dtype=np.uint8)], axis=-1)\n",
        "    white = np.all(image_bgr == [255, 255, 255], axis=-1)\n",
        "    image_bgra[white, -1] = 0\n",
        "    return image_bgra"
      ],
      "outputs": [],
      "execution_count": 19,
      "metadata": {
        "collapsed": true,
        "outputExpanded": false,
        "jupyter": {
          "source_hidden": false,
          "outputs_hidden": false
        },
        "nteract": {
          "transient": {
            "deleting": false
          }
        },
        "execution": {
          "iopub.status.busy": "2020-05-24T12:47:09.629Z",
          "iopub.execute_input": "2020-05-24T12:47:09.632Z",
          "iopub.status.idle": "2020-05-24T12:47:09.638Z",
          "shell.execute_reply": "2020-05-24T12:47:09.641Z"
        }
      }
    },
    {
      "cell_type": "code",
      "source": [
        "images = dict()\n",
        "for file in files:\n",
        "    name = file.split('_')[1].split('.')[0]\n",
        "    #im = load_im(file)\n",
        "    im = cv2.imread(file)\n",
        "    print(name,im.shape)\n",
        "    #plt.imshow(im)\n",
        "    #plt.show()\n",
        "    images[name] = im\n"
      ],
      "outputs": [
        {
          "output_type": "stream",
          "name": "stdout",
          "text": [
            "wall (512, 512, 3)\n",
            "door (512, 512, 3)\n",
            "corner (512, 512, 3)\n",
            "window (512, 512, 3)\n",
            "entrance (512, 512, 3)\n",
            "shape (512, 512, 3)\n",
            "room (512, 512, 3)\n"
          ]
        }
      ],
      "execution_count": 20,
      "metadata": {
        "collapsed": true,
        "outputExpanded": false,
        "jupyter": {
          "source_hidden": false,
          "outputs_hidden": false
        },
        "nteract": {
          "transient": {
            "deleting": false
          }
        },
        "execution": {
          "iopub.status.busy": "2020-05-24T12:47:09.803Z",
          "iopub.execute_input": "2020-05-24T12:47:09.807Z",
          "iopub.status.idle": "2020-05-24T12:47:09.825Z",
          "shell.execute_reply": "2020-05-24T12:47:09.828Z"
        }
      }
    },
    {
      "cell_type": "code",
      "source": [
        "door = images['door']\n",
        "door[:,:,2] = 255\n",
        "window = images['window']\n",
        "window[:,:,1] = 255\n",
        "window[:,:,2] = 255\n",
        "processed = cv2.bitwise_not(door+window-images['wall']-255,np.zeros((512,512,3)))\n",
        "processed = cv2.bitwise_and(images['room'],processed)\n",
        "\n",
        "\n",
        "print(processed.max())\n",
        "plt.imshow(processed)\n",
        "plt.show()"
      ],
      "outputs": [
        {
          "output_type": "stream",
          "name": "stdout",
          "text": [
            "255\n"
          ]
        },
        {
          "output_type": "display_data",
          "data": {
            "text/plain": [
              "<Figure size 432x288 with 1 Axes>"
            ],
            "image/png": "[encoded data removed]"
          },
          "metadata": {
            "needs_background": "light"
          }
        }
      ],
      "execution_count": 21,
      "metadata": {
        "collapsed": true,
        "outputExpanded": false,
        "jupyter": {
          "source_hidden": false,
          "outputs_hidden": false
        },
        "nteract": {
          "transient": {
            "deleting": false
          }
        },
        "execution": {
          "iopub.status.busy": "2020-05-24T12:47:10.002Z",
          "iopub.execute_input": "2020-05-24T12:47:10.005Z",
          "iopub.status.idle": "2020-05-24T12:47:10.138Z",
          "shell.execute_reply": "2020-05-24T12:47:10.142Z"
        }
      }
    },
    {
      "cell_type": "code",
      "source": [
        "import cv2\n",
        "import numpy as np\n",
        "import os\n",
        "\n",
        "def process(path):\n",
        "    ### load image \n",
        "    files = [path +'/' + file for file in os.listdir(path)]\n",
        "    images = dict()\n",
        "    for file in files:\n",
        "        name = file.split('_')[1].split('.')[0]\n",
        "        im = cv2.imread(file)\n",
        "        images[name] = im\n",
        "    door = images['door']\n",
        "    door[:,:,2] = 255\n",
        "    window = images['window']\n",
        "    window[:,:,1] = 255\n",
        "    window[:,:,2] = 255\n",
        "    processed = cv2.bitwise_not(door+window-images['wall']-255,np.zeros((512,512,3)))\n",
        "    processed = cv2.bitwise_and(images['room'],processed)\n",
        "    shape = images['shape']\n",
        "    processed = cv2.resize(processed,(128,128),interpolation = cv2.INTER_LINEAR)\n",
        "    shape = cv2.resize(shape,(128,128),interpolation = cv2.INTER_LINEAR)\n",
        "    #plt.imshow(processed)\n",
        "    #plt.show()\n",
        "    #plt.imshow(shape)\n",
        "    #plt.show()\n",
        "    return processed, shape\n",
        "    \n",
        "#process('sample/')\n"
      ],
      "outputs": [],
      "execution_count": 22,
      "metadata": {
        "collapsed": true,
        "outputExpanded": false,
        "jupyter": {
          "source_hidden": false,
          "outputs_hidden": false
        },
        "nteract": {
          "transient": {
            "deleting": false
          }
        },
        "execution": {
          "iopub.status.busy": "2020-05-24T12:47:10.372Z",
          "iopub.execute_input": "2020-05-24T12:47:10.376Z",
          "iopub.status.idle": "2020-05-24T12:47:10.381Z",
          "shell.execute_reply": "2020-05-24T12:47:10.383Z"
        }
      }
    },
    {
      "cell_type": "code",
      "source": [
        "input_dir = '/Users/alex/Desktop/RTS/building-design-assistant/datasets/energy/png'\n",
        "file_paths = glob.glob(input_dir + '/*/*/*')\n",
        "#taking as input the outputs of other transformer"
      ],
      "outputs": [],
      "execution_count": 23,
      "metadata": {
        "collapsed": true,
        "outputExpanded": false,
        "jupyter": {
          "source_hidden": false,
          "outputs_hidden": false
        },
        "nteract": {
          "transient": {
            "deleting": false
          }
        },
        "execution": {
          "iopub.status.busy": "2020-05-24T12:47:10.758Z",
          "iopub.execute_input": "2020-05-24T12:47:10.762Z",
          "iopub.status.idle": "2020-05-24T12:47:11.579Z",
          "shell.execute_reply": "2020-05-24T12:47:11.594Z"
        }
      }
    },
    {
      "cell_type": "code",
      "source": [
        "print(len(file_paths))\n",
        "print(file_paths[0])"
      ],
      "outputs": [
        {
          "output_type": "stream",
          "name": "stdout",
          "text": [
            "72042\n",
            "/Users/alex/Desktop/RTS/building-design-assistant/datasets/energy/png/0c/61/6407788e3dc8ab96802754f29454\n"
          ]
        }
      ],
      "execution_count": 24,
      "metadata": {
        "collapsed": true,
        "outputExpanded": false,
        "jupyter": {
          "source_hidden": false,
          "outputs_hidden": false
        },
        "nteract": {
          "transient": {
            "deleting": false
          }
        },
        "execution": {
          "iopub.status.busy": "2020-05-24T12:47:11.583Z",
          "iopub.execute_input": "2020-05-24T12:47:11.586Z",
          "iopub.status.idle": "2020-05-24T12:47:11.591Z",
          "shell.execute_reply": "2020-05-24T12:47:11.596Z"
        }
      }
    },
    {
      "cell_type": "code",
      "source": [
        "energy = pd.read_csv('/Users/alex/Desktop/RTS/Pix2Pix_plans/energy_from_txt/all.csv', delimiter = \";\")\n",
        "print(energy)"
      ],
      "outputs": [
        {
          "output_type": "stream",
          "name": "stdout",
          "text": [
            "        Unnamed: 0                               paths  max_number  \\\n",
            "0                0  0c/61/6407788e3dc8ab96802754f29454         454   \n",
            "1                1  0c/61/9a70ffd39eb8b5ddea8251ae64d2         616   \n",
            "2                2  0c/61/82be7dacf24447ad01ef9ef20ee4        1869   \n",
            "3                3  0c/61/c3df18a509d7d4c440f9530b81d3         437   \n",
            "4                4  0c/61/5eb69b10672997d4131d2f5ab622        1092   \n",
            "...            ...                                 ...         ...   \n",
            "100997      101041  0a/06/5a342c44a5483c5f7e5989478212         329   \n",
            "100998      101042  0a/06/4e5a5332e0a19729ae0034d3420d         785   \n",
            "100999      101043  0a/06/dd32b00e8d51f43123f64ea81a98        1885   \n",
            "101000      101044  0a/06/001fc1fcde5accb860e2d59389f9         476   \n",
            "101001      101045  0a/06/3dc3c277b926eeb841dc3b5c9510         417   \n",
            "\n",
            "        Cooling_Load  Heating_Load   area   Cooling_norm    Heating_norm   \n",
            "0            1558596       1081916  18000              87              60  \n",
            "1              52084         43970   6000               9               7  \n",
            "2              53471         45787   6000               9               8  \n",
            "3             104082         82006   9940              10               8  \n",
            "4              53315         44985   6000               9               7  \n",
            "...              ...           ...    ...             ...             ...  \n",
            "100997         42289         37600   4800               9               8  \n",
            "100998        206198        154901  12000              17              13  \n",
            "100999         23766         22091   2400              10               9  \n",
            "101000         45681         39485   5000               9               8  \n",
            "101001        135450        104414  11000              12               9  \n",
            "\n",
            "[101002 rows x 8 columns]\n"
          ]
        }
      ],
      "execution_count": 25,
      "metadata": {
        "collapsed": true,
        "outputExpanded": false,
        "jupyter": {
          "source_hidden": false,
          "outputs_hidden": false
        },
        "nteract": {
          "transient": {
            "deleting": false
          }
        },
        "execution": {
          "iopub.status.busy": "2020-05-24T12:47:11.741Z",
          "iopub.execute_input": "2020-05-24T12:47:11.744Z",
          "iopub.status.idle": "2020-05-24T12:47:11.858Z",
          "shell.execute_reply": "2020-05-24T12:47:11.861Z"
        }
      }
    },
    {
      "cell_type": "code",
      "source": [
        "pd_paths = list(energy['paths'])\n",
        "pd_h = list(energy[' Heating_norm '])\n",
        "pd_c = list(energy[' Cooling_norm '])\n",
        "coolings = dict(zip(pd_paths,pd_c))\n",
        "heatings = dict(zip(pd_paths,pd_h))"
      ],
      "outputs": [],
      "execution_count": 26,
      "metadata": {
        "collapsed": true,
        "outputExpanded": false,
        "jupyter": {
          "source_hidden": false,
          "outputs_hidden": false
        },
        "nteract": {
          "transient": {
            "deleting": false
          }
        },
        "execution": {
          "iopub.status.busy": "2020-05-24T12:47:13.074Z",
          "iopub.execute_input": "2020-05-24T12:47:13.077Z",
          "iopub.status.idle": "2020-05-24T12:47:13.081Z",
          "shell.execute_reply": "2020-05-24T12:47:13.087Z"
        }
      }
    },
    {
      "cell_type": "code",
      "source": [
        "#/Users/alex/Desktop/RTS/building-design-assistant/datasets/energy/png\n",
        "#for idx, path in enumerate(file_paths):  \n",
        " # files = [path +'/' + file for file in os.listdir(path)]\n",
        " # for file in files:\n",
        "  #  os.remove(file)"
      ],
      "outputs": [],
      "execution_count": 27,
      "metadata": {
        "collapsed": true,
        "outputExpanded": false,
        "jupyter": {
          "source_hidden": false,
          "outputs_hidden": false
        },
        "nteract": {
          "transient": {
            "deleting": false
          }
        },
        "execution": {
          "iopub.status.busy": "2020-05-24T12:47:13.810Z",
          "iopub.execute_input": "2020-05-24T12:47:13.813Z",
          "iopub.status.idle": "2020-05-24T12:47:13.819Z",
          "shell.execute_reply": "2020-05-24T12:47:13.822Z"
        }
      }
    },
    {
      "cell_type": "code",
      "source": [
        "data_c = []\n",
        "data_h = []\n",
        "output_dir = 'data_final/'\n",
        "#/Users/alex/Desktop/RTS/building-design-assistant/datasets/energy/png\n",
        "for idx, path in enumerate(file_paths): \n",
        "  if idx == 40000:\n",
        "    break\n",
        "  try : \n",
        "      name = '/'.join(path.split('/')[9:])\n",
        "      h,c = coolings[name], heatings[name]\n",
        "      data_c.append(c)\n",
        "      data_h.append(h)\n",
        "      processed, shape=process(path)\n",
        "      cv2.imwrite(output_dir+'data/lines/lines/'+str(idx)+'.png', processed)\n",
        "      cv2.imwrite(output_dir+'data/shapes/shapes/'+str(idx)+'.png', shape)\n",
        "  except KeyError:\n",
        "      pass\n",
        "torch.save(torch.Tensor(data_c),output_dir + 'data_c.pt')\n",
        "torch.save(torch.Tensor(data_h),output_dir + 'data_h.pt')"
      ],
      "outputs": [],
      "execution_count": 28,
      "metadata": {
        "collapsed": true,
        "outputExpanded": false,
        "jupyter": {
          "source_hidden": false,
          "outputs_hidden": false
        },
        "nteract": {
          "transient": {
            "deleting": false
          }
        },
        "execution": {
          "iopub.status.busy": "2020-05-24T12:47:15.084Z",
          "iopub.execute_input": "2020-05-24T12:47:15.088Z",
          "iopub.status.idle": "2020-05-24T12:59:12.041Z",
          "shell.execute_reply": "2020-05-24T12:59:12.095Z"
        }
      }
    },
    {
      "cell_type": "code",
      "source": [
        "torch.load(output_dir + 'data_c.pt')"
      ],
      "outputs": [
        {
          "output_type": "execute_result",
          "execution_count": 29,
          "data": {
            "text/plain": [
              "tensor([60.,  7.,  8.,  ..., 25.,  8.,  7.])"
            ]
          },
          "metadata": {}
        }
      ],
      "execution_count": 29,
      "metadata": {
        "collapsed": true,
        "outputExpanded": false,
        "jupyter": {
          "source_hidden": false,
          "outputs_hidden": false
        },
        "nteract": {
          "transient": {
            "deleting": false
          }
        },
        "execution": {
          "iopub.status.busy": "2020-05-24T12:59:12.053Z",
          "iopub.execute_input": "2020-05-24T12:59:12.057Z",
          "iopub.status.idle": "2020-05-24T12:59:12.064Z",
          "shell.execute_reply": "2020-05-24T12:59:12.101Z"
        }
      }
    },
    {
      "cell_type": "code",
      "source": [
        "torch.load(output_dir + 'data_h.pt')"
      ],
      "outputs": [
        {
          "output_type": "execute_result",
          "execution_count": 30,
          "data": {
            "text/plain": [
              "tensor([87.,  9., 10.,  ..., 35., 10.,  8.])"
            ]
          },
          "metadata": {}
        }
      ],
      "execution_count": 30,
      "metadata": {
        "collapsed": true,
        "outputExpanded": false,
        "jupyter": {
          "source_hidden": false,
          "outputs_hidden": false
        },
        "nteract": {
          "transient": {
            "deleting": false
          }
        },
        "execution": {
          "iopub.status.busy": "2020-05-24T12:59:12.070Z",
          "iopub.execute_input": "2020-05-24T12:59:12.073Z",
          "iopub.status.idle": "2020-05-24T12:59:12.081Z",
          "shell.execute_reply": "2020-05-24T12:59:12.103Z"
        }
      }
    },
    {
      "cell_type": "code",
      "source": [],
      "outputs": [],
      "execution_count": null,
      "metadata": {
        "collapsed": true,
        "outputExpanded": false,
        "jupyter": {
          "source_hidden": false,
          "outputs_hidden": false
        },
        "nteract": {
          "transient": {
            "deleting": false
          }
        }
      }
    }
  ],
  "metadata": {
    "kernel_info": {
      "name": "python3"
    },
    "language_info": {
      "name": "python",
      "version": "3.7.6",
      "mimetype": "text/x-python",
      "codemirror_mode": {
        "name": "ipython",
        "version": 3
      },
      "pygments_lexer": "ipython3",
      "nbconvert_exporter": "python",
      "file_extension": ".py"
    },
    "kernelspec": {
      "argv": [
        "/Users/alex/opt/anaconda3/bin/python",
        "-m",
        "ipykernel_launcher",
        "-f",
        "{connection_file}"
      ],
      "display_name": "Python 3",
      "language": "python",
      "name": "python3"
    },
    "nteract": {
      "version": "0.23.1"
    }
  },
  "nbformat": 4,
  "nbformat_minor": 0
}