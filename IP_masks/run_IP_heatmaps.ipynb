{
  "cells": [
    {
      "cell_type": "code",
      "source": [
        "from IP import reconstructFloorplan"
      ],
      "outputs": [],
      "execution_count": 3,
      "metadata": {
        "inputHidden": false,
        "outputHidden": false,
        "execution": {
          "iopub.status.busy": "2020-04-25T15:47:59.618Z",
          "iopub.execute_input": "2020-04-25T15:47:59.621Z",
          "iopub.status.idle": "2020-04-25T15:47:59.625Z",
          "shell.execute_reply": "2020-04-25T15:47:59.629Z"
        }
      }
    },
    {
      "cell_type": "code",
      "source": [
        "## This should be replaced by the output of the GAN \n",
        "## with the shapes below as ///// heatmaps //////\n",
        "### wall Corners --> 256x256x13\n",
        "### door Corners --> 256x256x4\n",
        "### room Types   --> 256x256x10\n",
        "import os\n",
        "import numpy as np\n",
        "import string\n",
        "import cv2\n",
        "from datetime import datetime\n",
        "import matplotlib.pyplot as plt\n",
        "import h5py\n",
        "#filename = \"0001.h5py\"\n",
        "filename = \"0003.h5py\"\n",
        "with h5py.File(filename, \"r\") as f:\n",
        "    loaded = dict((key,np.array(f.get(key))) for key in f.keys())\n",
        "    for key in f.keys():\n",
        "        print(key, loaded[key].shape)\n",
        "\n",
        "room_bis = np.copy(loaded['room_mask'])\n",
        "room_bis[5,:,:] -= loaded['wall_mask'][0,:,:]\n",
        "room_bis[1,:,:] += loaded['room_mask'][0,:,:]\n",
        "room_bis[0,:,:]  = 1-loaded['shape_mask'][0,:,:]\n",
        "\n",
        "nonzeros = np.array(np.nonzero(loaded['corner_mask']))\n",
        "for idx in range(len(np.nonzero(loaded['corner_mask'])[0])):\n",
        "    c,x,y = nonzeros[:,idx]\n",
        "    carre = loaded['corner_mask'][c,(x-2):(x+3),(y-2):(y+3)]\n",
        "    if carre.sum()==21:\n",
        "        loaded['corner_mask'][c,(x-2):(x+3),(y-2):(y+3)] = np.zeros((5,5))\n",
        "        loaded['corner_mask'][c,(x-1):(x+2),(y-1):(y+2)] = np.ones((3,3))\n",
        "\n",
        "for i in range(17):\n",
        "    print(i)\n",
        "    plt.figure()\n",
        "    plt.subplot(1,2,1)\n",
        "    plt.imshow(loaded['corner_mask'][i,:,:])\n",
        "    plt.subplot(1,2,2)\n",
        "    plt.imshow(loaded['wall_seg'])\n",
        "    plt.show()\n",
        "    \n"
      ],
      "outputs": [
        {
          "output_type": "stream",
          "name": "stdout",
          "text": [
            "corner_mask (17, 128, 128)\n",
            "corner_seg (128, 128, 3)\n",
            "door_mask (1, 128, 128)\n",
            "door_seg (128, 128, 3)\n",
            "entrance_mask (1, 128, 128)\n",
            "entrance_seg (128, 128, 3)\n",
            "room_mask (10, 128, 128)\n",
            "room_seg (128, 128, 3)\n",
            "shape_mask (1, 128, 128)\n",
            "shape_seg (128, 128, 3)\n",
            "wall_mask (1, 128, 128)\n",
            "wall_seg (128, 128, 3)\n",
            "window_mask (1, 128, 128)\n",
            "window_seg (128, 128, 3)\n",
            "0\n"
          ]
        },
        {
          "output_type": "display_data",
          "data": {
            "text/plain": [
              "<Figure size 432x288 with 2 Axes>"
            ],
            "image/png": "[encoded data removed]"
          },
          "metadata": {
            "needs_background": "light"
          }
        },
        {
          "output_type": "stream",
          "name": "stdout",
          "text": [
            "1\n"
          ]
        },
        {
          "output_type": "display_data",
          "data": {
            "text/plain": [
              "<Figure size 432x288 with 2 Axes>"
            ],
            "image/png": "[encoded data removed]"
          },
          "metadata": {
            "needs_background": "light"
          }
        },
        {
          "output_type": "stream",
          "name": "stdout",
          "text": [
            "2\n"
          ]
        },
        {
          "output_type": "display_data",
          "data": {
            "text/plain": [
              "<Figure size 432x288 with 2 Axes>"
            ],
            "image/png": "[encoded data removed]"
          },
          "metadata": {
            "needs_background": "light"
          }
        },
        {
          "output_type": "stream",
          "name": "stdout",
          "text": [
            "3\n"
          ]
        },
        {
          "output_type": "display_data",
          "data": {
            "text/plain": [
              "<Figure size 432x288 with 2 Axes>"
            ],
            "image/png": "[encoded data removed]"
          },
          "metadata": {
            "needs_background": "light"
          }
        },
        {
          "output_type": "stream",
          "name": "stdout",
          "text": [
            "4\n"
          ]
        },
        {
          "output_type": "display_data",
          "data": {
            "text/plain": [
              "<Figure size 432x288 with 2 Axes>"
            ],
            "image/png": "[encoded data removed]"
          },
          "metadata": {
            "needs_background": "light"
          }
        },
        {
          "output_type": "stream",
          "name": "stdout",
          "text": [
            "5\n"
          ]
        },
        {
          "output_type": "display_data",
          "data": {
            "text/plain": [
              "<Figure size 432x288 with 2 Axes>"
            ],
            "image/png": "[encoded data removed]"
          },
          "metadata": {
            "needs_background": "light"
          }
        },
        {
          "output_type": "stream",
          "name": "stdout",
          "text": [
            "6\n"
          ]
        },
        {
          "output_type": "display_data",
          "data": {
            "text/plain": [
              "<Figure size 432x288 with 2 Axes>"
            ],
            "image/png": "[encoded data removed]"
          },
          "metadata": {
            "needs_background": "light"
          }
        },
        {
          "output_type": "stream",
          "name": "stdout",
          "text": [
            "7\n"
          ]
        },
        {
          "output_type": "display_data",
          "data": {
            "text/plain": [
              "<Figure size 432x288 with 2 Axes>"
            ],
            "image/png": "[encoded data removed]"
          },
          "metadata": {
            "needs_background": "light"
          }
        },
        {
          "output_type": "stream",
          "name": "stdout",
          "text": [
            "8\n"
          ]
        },
        {
          "output_type": "display_data",
          "data": {
            "text/plain": [
              "<Figure size 432x288 with 2 Axes>"
            ],
            "image/png": "[encoded data removed]"
          },
          "metadata": {
            "needs_background": "light"
          }
        },
        {
          "output_type": "stream",
          "name": "stdout",
          "text": [
            "9\n"
          ]
        },
        {
          "output_type": "display_data",
          "data": {
            "text/plain": [
              "<Figure size 432x288 with 2 Axes>"
            ],
            "image/png": "[encoded data removed]"
          },
          "metadata": {
            "needs_background": "light"
          }
        },
        {
          "output_type": "stream",
          "name": "stdout",
          "text": [
            "10\n"
          ]
        },
        {
          "output_type": "display_data",
          "data": {
            "text/plain": [
              "<Figure size 432x288 with 2 Axes>"
            ],
            "image/png": "[encoded data removed]"
          },
          "metadata": {
            "needs_background": "light"
          }
        },
        {
          "output_type": "stream",
          "name": "stdout",
          "text": [
            "11\n"
          ]
        },
        {
          "output_type": "display_data",
          "data": {
            "text/plain": [
              "<Figure size 432x288 with 2 Axes>"
            ],
            "image/png": "[encoded data removed]"
          },
          "metadata": {
            "needs_background": "light"
          }
        },
        {
          "output_type": "stream",
          "name": "stdout",
          "text": [
            "12\n"
          ]
        },
        {
          "output_type": "display_data",
          "data": {
            "text/plain": [
              "<Figure size 432x288 with 2 Axes>"
            ],
            "image/png": "[encoded data removed]"
          },
          "metadata": {
            "needs_background": "light"
          }
        },
        {
          "output_type": "stream",
          "name": "stdout",
          "text": [
            "13\n"
          ]
        },
        {
          "output_type": "display_data",
          "data": {
            "text/plain": [
              "<Figure size 432x288 with 2 Axes>"
            ],
            "image/png": "[encoded data removed]"
          },
          "metadata": {
            "needs_background": "light"
          }
        },
        {
          "output_type": "stream",
          "name": "stdout",
          "text": [
            "14\n"
          ]
        },
        {
          "output_type": "display_data",
          "data": {
            "text/plain": [
              "<Figure size 432x288 with 2 Axes>"
            ],
            "image/png": "[encoded data removed]"
          },
          "metadata": {
            "needs_background": "light"
          }
        },
        {
          "output_type": "stream",
          "name": "stdout",
          "text": [
            "15\n"
          ]
        },
        {
          "output_type": "display_data",
          "data": {
            "text/plain": [
              "<Figure size 432x288 with 2 Axes>"
            ],
            "image/png": "[encoded data removed]"
          },
          "metadata": {
            "needs_background": "light"
          }
        },
        {
          "output_type": "stream",
          "name": "stdout",
          "text": [
            "16\n"
          ]
        },
        {
          "output_type": "display_data",
          "data": {
            "text/plain": [
              "<Figure size 432x288 with 2 Axes>"
            ],
            "image/png": "[encoded data removed]"
          },
          "metadata": {
            "needs_background": "light"
          }
        }
      ],
      "execution_count": 4,
      "metadata": {
        "inputHidden": false,
        "outputHidden": false,
        "execution": {
          "iopub.status.busy": "2020-04-25T15:47:59.970Z",
          "iopub.execute_input": "2020-04-25T15:47:59.973Z",
          "iopub.status.idle": "2020-04-25T15:48:03.344Z",
          "shell.execute_reply": "2020-04-25T15:48:03.355Z"
        }
      }
    },
    {
      "cell_type": "code",
      "source": [
        "alphabet = string.ascii_lowercase.replace('t', '').replace('n', '')\n",
        "\n",
        "threshold_text = 2\n",
        "def contains_letter(string):\n",
        "    for letter in alphabet:\n",
        "        if letter in string:\n",
        "            return True\n",
        "    return False\n",
        "\n",
        "def dist(x1, x2):\n",
        "    sommes = [abs(x1[i] - x2[i]) for i in range(len(x1))]\n",
        "    return sommes\n",
        "\n",
        "\n",
        "def getter_line(line):\n",
        "    x, j = [], 0\n",
        "    counter_points = 0\n",
        "    for i in range(len(line)):\n",
        "        if line[i] == \" \":\n",
        "            if counter_points == 4:\n",
        "                break\n",
        "            x.append(float(line[j:i + 1]))\n",
        "            j = i + 1\n",
        "            counter_points += 1\n",
        "    return x\n"
      ],
      "outputs": [],
      "execution_count": 5,
      "metadata": {
        "collapsed": true,
        "outputExpanded": false,
        "jupyter": {
          "source_hidden": false,
          "outputs_hidden": false
        },
        "nteract": {
          "transient": {
            "deleting": false
          }
        },
        "execution": {
          "iopub.status.busy": "2020-04-25T15:48:06.139Z",
          "iopub.execute_input": "2020-04-25T15:48:06.142Z",
          "iopub.status.idle": "2020-04-25T15:48:06.145Z",
          "shell.execute_reply": "2020-04-25T15:48:06.147Z"
        }
      }
    },
    {
      "cell_type": "code",
      "source": [
        "def full_ip(cornerHeatmaps,roomHeatmaps,folder_outputs):\n",
        "    gaps = [1, 3, 3, 5, 7]  # [1, 3, 3, 3]  # [1, 3, 3]\n",
        "    distances = [3, 3, 5, 5, 7]  # [3, 1, 9, 7]  # [3, 1, 9]\n",
        "    lengths = [1, 3, 3, 5, 7]  # [1, 3, 3, 7]  # [1, 3, 3]\n",
        "    # [0.02, 0.02, 0.02, 0.02]  # [0.02, 0.02, 0.02]\n",
        "    heatmaps_wall = [0.0001, 0.0001, 0.0001, 0.0001, 0.0001]\n",
        "    \n",
        "    for gap, distanceThreshold, lengthThreshold, heatmapValueThresholdWall in zip(gaps, distances, lengths, heatmaps_wall):\n",
        "        output_prefix = folder_outputs + \\\n",
        "                '_gap_{}_dist_{}_length_{}_wall_{}'.format(\n",
        "                gap, distanceThreshold, lengthThreshold,\n",
        "                heatmapValueThresholdWall)\n",
        "        print(output_prefix)\n",
        "        reconstructFloorplan(\n",
        "        cornerHeatmaps[:, :, :13],\n",
        "        cornerHeatmaps[:, :, 13:17],\n",
        "        roomHeatmaps,\n",
        "        output_prefix=output_prefix,\n",
        "        densityImage=None,\n",
        "        gt_dict=None,\n",
        "        gt=False,\n",
        "        gap=gap,\n",
        "        distanceThreshold=distanceThreshold,\n",
        "        lengthThreshold=lengthThreshold,\n",
        "        debug_prefix='test',\n",
        "        save_image=True,\n",
        "        heatmapValueThresholdWall=heatmapValueThresholdWall,\n",
        "        heatmapValueThresholdDoor=heatmapValueThresholdWall,  # same threshold here\n",
        "        heatmapValueThresholdIcon=heatmapValueThresholdWall,  # same threshold here\n",
        "        enableAugmentation=True)\n",
        "   \n",
        "    files = os.listdir(folder_outputs)\n",
        "    all_txt = [folder_outputs + file for file in files if file.endswith(\"floorplan.txt\")]\n",
        "    all_lines = [line.replace(\"\\t8\", \" \").replace(\"\\t6\", \" \").replace(\"\\t3\", \" \").replace(\"\\t\", \" \") for txt in all_txt\n",
        "                 for line in open(txt, \"r\") if len(line) > 10]\n",
        "    all_lines = [line for line in all_lines]\n",
        "\n",
        "    txt_main_int = [\n",
        "        line for line in all_lines if not contains_letter(line)]\n",
        "    txt_main_str = [line for line in all_lines if contains_letter(line)]\n",
        "\n",
        "    def filtering(text):\n",
        "        global gaping\n",
        "        gaping = 0\n",
        "        i = 0\n",
        "        while i < len(text) - gaping:\n",
        "            j = 0\n",
        "            while j < len(text) - gaping:\n",
        "                if j != i:\n",
        "                    distances = dist(getter_line(text[i]), getter_line(\n",
        "                        text[j]))\n",
        "                    conditions = [dist < threshold_text for dist in distances]\n",
        "                    if all(conditions):\n",
        "                        txt_main_int.pop(j)\n",
        "                        gaping += 1\n",
        "                        j -= 1\n",
        "                j += 1\n",
        "            i += 1\n",
        "\n",
        "    # sum of masks\n",
        "    images = np.zeros((128, 128, 3))\n",
        "    for file in files:\n",
        "        if file.endswith('image.png'):\n",
        "            images += cv2.imread(os.path.join(folder_outputs, file), 1)\n",
        "    cv2.imwrite(folder_outputs + '_sum' + '.png', images)\n",
        "\n",
        "    # sum of txts\n",
        "    filtering(txt_main_int)\n",
        "    filtering(txt_main_str)\n",
        "    txt_info = ['128 128 \\n', str(len(txt_main_int)) + '\\n']\n",
        "    with open(folder_outputs + \"_sum.txt\", \"w\") as writer_main:\n",
        "        writer_main.writelines(txt_info)\n",
        "        writer_main.writelines(txt_main_int)\n",
        "        writer_main.writelines(txt_main_str)\n"
      ],
      "outputs": [],
      "execution_count": 14,
      "metadata": {
        "inputHidden": false,
        "outputHidden": false,
        "execution": {
          "iopub.status.busy": "2020-04-25T15:55:31.323Z",
          "iopub.execute_input": "2020-04-25T15:55:31.326Z",
          "iopub.status.idle": "2020-04-25T15:55:31.330Z",
          "shell.execute_reply": "2020-04-25T15:55:31.337Z"
        }
      }
    },
    {
      "cell_type": "code",
      "source": [
        "folder_outputs = 'output/{}/'.format(\n",
        "        datetime.now().strftime('%m-%d_%H-%M-%S'))\n",
        "os.makedirs(folder_outputs)\n",
        "\n",
        "#replace with output heatmaps\n",
        "full_ip(loaded['corner_mask'].T,room_bis.T,folder_outputs)"
      ],
      "outputs": [
        {
          "output_type": "stream",
          "name": "stdout",
          "text": [
            "output/04-25_17-55-31/_gap_1_dist_3_length_1_wall_1e-25\n",
            "output/04-25_17-55-31/_gap_3_dist_3_length_3_wall_1e-08\n",
            "output/04-25_17-55-31/_gap_3_dist_5_length_3_wall_1e-08\n",
            "output/04-25_17-55-31/_gap_5_dist_5_length_5_wall_1e-08\n",
            "output/04-25_17-55-31/_gap_7_dist_7_length_7_wall_1e-09\n"
          ]
        }
      ],
      "execution_count": 15,
      "metadata": {
        "collapsed": true,
        "outputExpanded": false,
        "jupyter": {
          "source_hidden": false,
          "outputs_hidden": false
        },
        "nteract": {
          "transient": {
            "deleting": false
          }
        },
        "execution": {
          "iopub.status.busy": "2020-04-25T15:55:31.643Z",
          "iopub.execute_input": "2020-04-25T15:55:31.646Z",
          "iopub.status.idle": "2020-04-25T15:55:32.682Z",
          "shell.execute_reply": "2020-04-25T15:55:32.686Z"
        }
      }
    },
    {
      "cell_type": "code",
      "source": [],
      "outputs": [],
      "execution_count": null,
      "metadata": {
        "collapsed": true,
        "outputExpanded": false,
        "jupyter": {
          "source_hidden": false,
          "outputs_hidden": false
        },
        "nteract": {
          "transient": {
            "deleting": false
          }
        }
      }
    }
  ],
  "metadata": {
    "kernel_info": {
      "name": "rts_gan"
    },
    "kernelspec": {
      "display_name": "Python 3",
      "language": "python",
      "name": "python3"
    },
    "language_info": {
      "name": "python",
      "version": "3.7.6",
      "mimetype": "text/x-python",
      "codemirror_mode": {
        "name": "ipython",
        "version": 3
      },
      "pygments_lexer": "ipython3",
      "nbconvert_exporter": "python",
      "file_extension": ".py"
    },
    "nteract": {
      "version": "0.22.4"
    }
  },
  "nbformat": 4,
  "nbformat_minor": 1
}