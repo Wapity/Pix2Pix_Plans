{
  "cells": [
    {
      "cell_type": "code",
      "source": [
        "import os\n",
        "import csv"
      ],
      "outputs": [],
      "execution_count": 6,
      "metadata": {
        "collapsed": true,
        "outputExpanded": false,
        "jupyter": {
          "source_hidden": false,
          "outputs_hidden": false
        },
        "nteract": {
          "transient": {
            "deleting": false
          }
        },
        "execution": {
          "shell.execute_reply": "2020-05-02T15:38:30.288Z",
          "iopub.status.busy": "2020-05-02T15:38:30.280Z",
          "iopub.execute_input": "2020-05-02T15:38:30.282Z",
          "iopub.status.idle": "2020-05-02T15:38:30.286Z"
        }
      }
    },
    {
      "cell_type": "code",
      "source": [
        "def extract_vec(txt_file):\n",
        "    with open(txt_file,'r') as reader:\n",
        "        lines_wall = []\n",
        "        lines_door = []\n",
        "        for i, line in enumerate(reader): \n",
        "            line = line.split()\n",
        "            if line[-3] == 'wall' : \n",
        "                #print(line[:-3])\n",
        "                lines_wall += list(map(lambda x : int(float(x)),line[:-3]))\n",
        "            elif line[-3] == 'door' : \n",
        "                #print(line[:-3])\n",
        "                lines_door += list(map(lambda x : int(float(x)),line[:-3]))\n",
        "    if len(lines_wall)<200:\n",
        "        lines_wall += [0]*(200-len(lines_wall))\n",
        "    if len(lines_door)<100:\n",
        "        lines_door += [0]*(100-len(lines_door))\n",
        "    return lines_wall, lines_door"
      ],
      "outputs": [],
      "execution_count": 7,
      "metadata": {
        "collapsed": true,
        "outputExpanded": false,
        "jupyter": {
          "source_hidden": false,
          "outputs_hidden": false
        },
        "nteract": {
          "transient": {
            "deleting": false
          }
        },
        "execution": {
          "iopub.status.busy": "2020-05-02T15:38:30.524Z",
          "iopub.execute_input": "2020-05-02T15:38:30.527Z",
          "iopub.status.idle": "2020-05-02T15:38:30.532Z",
          "shell.execute_reply": "2020-05-02T15:38:30.534Z"
        }
      }
    },
    {
      "cell_type": "code",
      "source": [
        "x1,x2 = extract_vec('0001.txt')\n",
        "print('****** x1',x1)\n",
        "print('****** x2',x2)"
      ],
      "outputs": [
        {
          "output_type": "stream",
          "name": "stdout",
          "text": [
            "****** x1 [532, 84, 532, 125, 441, 125, 532, 125, 659, 998, 659, 1087, 138, 1087, 659, 1087, 443, 300, 443, 388, 262, 388, 443, 388, 138, 998, 138, 1087, 484, 563, 484, 650, 484, 563, 529, 563, 529, 216, 529, 392, 529, 216, 657, 216, 137, 84, 137, 300, 137, 84, 441, 84, 532, 84, 657, 84, 657, 84, 657, 216, 441, 84, 532, 84, 441, 84, 441, 125, 403, 650, 484, 650, 403, 650, 403, 998, 137, 650, 403, 650, 262, 300, 441, 300, 262, 300, 262, 388, 137, 300, 262, 300, 657, 216, 657, 392, 658, 563, 658, 650, 658, 650, 658, 998, 484, 650, 658, 650, 441, 125, 441, 300, 658, 499, 658, 563, 529, 563, 658, 563, 403, 998, 658, 998, 658, 392, 658, 499, 529, 392, 658, 392, 529, 499, 658, 499, 137, 998, 403, 998, 529, 499, 529, 563, 137, 388, 262, 388, 137, 300, 137, 388, 137, 388, 137, 650, 529, 392, 529, 499, 137, 650, 137, 998, 0, 0, 0, 0, 0, 0, 0, 0, 0, 0, 0, 0, 0, 0, 0, 0, 0, 0, 0, 0, 0, 0, 0, 0, 0, 0, 0, 0, 0, 0, 0, 0, 0, 0, 0, 0]\n",
            "****** x2 [441, 226, 441, 288, 529, 220, 529, 278, 442, 306, 442, 374, 403, 736, 403, 909, 144, 300, 264, 300, 180, 84, 328, 84, 535, 392, 592, 392, 609, 84, 654, 84, 226, 650, 380, 650, 404, 998, 582, 998, 229, 998, 391, 998, 0, 0, 0, 0, 0, 0, 0, 0, 0, 0, 0, 0, 0, 0, 0, 0, 0, 0, 0, 0, 0, 0, 0, 0, 0, 0, 0, 0, 0, 0, 0, 0, 0, 0, 0, 0, 0, 0, 0, 0, 0, 0, 0, 0, 0, 0, 0, 0, 0, 0, 0, 0, 0, 0, 0, 0]\n"
          ]
        }
      ],
      "execution_count": 8,
      "metadata": {
        "collapsed": true,
        "outputExpanded": false,
        "jupyter": {
          "source_hidden": false,
          "outputs_hidden": false
        },
        "nteract": {
          "transient": {
            "deleting": false
          }
        },
        "execution": {
          "iopub.status.busy": "2020-05-02T15:38:30.844Z",
          "iopub.execute_input": "2020-05-02T15:38:30.846Z",
          "iopub.status.idle": "2020-05-02T15:38:30.853Z",
          "shell.execute_reply": "2020-05-02T15:38:30.855Z"
        }
      }
    },
    {
      "cell_type": "code",
      "source": [
        "with open('paths.csv','r') as reader:\n",
        "    with open('txt.csv','w') as f : \n",
        "        writer = csv.writer(f, delimiter=';')\n",
        "        for i, line in enumerate(reader): \n",
        "            if i > 0 : \n",
        "                line = line.split(\",\")\n",
        "                dirs = os.path.join('../dataset/',line[1][12:])\n",
        "                cooling = line[2]\n",
        "                heating = line[3]\n",
        "                for file in os.listdir(dirs):\n",
        "                    dirtxt = os.path.join(dirs,file)\n",
        "                    x1,x2 = extract_vec(dirtxt)\n",
        "                    writer.writerow([x1, x2, cooling, heating])"
      ],
      "outputs": [],
      "execution_count": 12,
      "metadata": {
        "collapsed": true,
        "outputExpanded": false,
        "jupyter": {
          "source_hidden": false,
          "outputs_hidden": false
        },
        "nteract": {
          "transient": {
            "deleting": false
          }
        },
        "execution": {
          "iopub.status.busy": "2020-05-02T15:41:00.649Z",
          "iopub.execute_input": "2020-05-02T15:41:00.651Z",
          "iopub.status.idle": "2020-05-02T15:41:01.005Z",
          "shell.execute_reply": "2020-05-02T15:41:01.006Z"
        }
      }
    }
  ],
  "metadata": {
    "kernel_info": {
      "name": "python3"
    },
    "language_info": {
      "name": "python",
      "version": "3.7.6",
      "mimetype": "text/x-python",
      "codemirror_mode": {
        "name": "ipython",
        "version": 3
      },
      "pygments_lexer": "ipython3",
      "nbconvert_exporter": "python",
      "file_extension": ".py"
    },
    "kernelspec": {
      "argv": [
        "/Users/alex/opt/anaconda3/bin/python",
        "-m",
        "ipykernel_launcher",
        "-f",
        "{connection_file}"
      ],
      "display_name": "Python 3",
      "language": "python",
      "name": "python3"
    },
    "nteract": {
      "version": "0.22.4"
    }
  },
  "nbformat": 4,
  "nbformat_minor": 0
}