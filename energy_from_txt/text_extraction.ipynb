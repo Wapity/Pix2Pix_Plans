{
  "cells": [
    {
      "cell_type": "code",
      "source": [
        "import os\n",
        "import csv\n",
        "import numpy as np\n",
        "import pandas as pd\n",
        "\n",
        "from sklearn.preprocessing import MinMaxScaler\n",
        "from sklearn.model_selection import train_test_split\n",
        "from sklearn.model_selection import GridSearchCV\n",
        "from sklearn.metrics import r2_score\n",
        "from sklearn.ensemble import RandomForestRegressor\n",
        "from sklearn.multioutput import MultiOutputRegressor\n",
        "from sklearn.ensemble import GradientBoostingRegressor"
      ],
      "outputs": [],
      "execution_count": 211,
      "metadata": {
        "collapsed": true,
        "outputExpanded": false,
        "jupyter": {
          "source_hidden": false,
          "outputs_hidden": false
        },
        "nteract": {
          "transient": {
            "deleting": false
          }
        },
        "execution": {
          "iopub.status.busy": "2020-05-10T09:40:23.278Z",
          "iopub.execute_input": "2020-05-10T09:40:23.280Z",
          "iopub.status.idle": "2020-05-10T09:40:23.285Z",
          "shell.execute_reply": "2020-05-10T09:40:23.287Z"
        }
      }
    },
    {
      "cell_type": "code",
      "source": [
        "data_folder = '../dataset/'\n",
        "\n",
        "paths, coolings, heatings = [], [], []\n",
        "with open('/Users/alex/Downloads/all.csv', 'r') as reader:\n",
        "    for line in list(reader)[1:]:\n",
        "        sample = line.split(';')[1:]\n",
        "        paths.append('/'.join(sample[0].split('/')[2:]))\n",
        "        coolings.append(int(sample[1]))\n",
        "        heatings.append(int(sample[2][:-2]))\n",
        "\n",
        "heatings = np.array(heatings)\n",
        "coolings = np.array(coolings)\n",
        "\n",
        "data_folder = '../dataset/'\n",
        "\n",
        "paths_all = []\n",
        "with open('/Users/alex/Downloads/all.csv', 'r') as reader:\n",
        "    for line in list(reader)[1:]:\n",
        "        sample = line.split(';')[1:]\n",
        "        paths_all.append('/'.join(sample[0].split('/')[2:]))\n",
        "\n",
        "num_samples = len(paths_all)\n",
        "print(num_samples)"
      ],
      "outputs": [
        {
          "output_type": "stream",
          "name": "stdout",
          "text": [
            "1468\n"
          ]
        }
      ],
      "execution_count": 212,
      "metadata": {
        "collapsed": true,
        "outputExpanded": false,
        "jupyter": {
          "source_hidden": false,
          "outputs_hidden": false
        },
        "nteract": {
          "transient": {
            "deleting": false
          }
        },
        "execution": {
          "iopub.status.busy": "2020-05-10T09:40:23.489Z",
          "iopub.execute_input": "2020-05-10T09:40:23.491Z",
          "iopub.status.idle": "2020-05-10T09:40:23.498Z",
          "shell.execute_reply": "2020-05-10T09:40:23.500Z"
        }
      }
    },
    {
      "cell_type": "code",
      "source": [
        "room_types = ['living_room', 'kitchen', 'bedroom',\n",
        "    'bathroom', 'restroom', 'washing_room',\n",
        "    'office', 'closet', 'balcony',\n",
        "    'corridor', 'dining_room','laundry_room',\n",
        "    'PS']\n"
      ],
      "outputs": [],
      "execution_count": 213,
      "metadata": {
        "collapsed": true,
        "outputExpanded": false,
        "jupyter": {
          "source_hidden": false,
          "outputs_hidden": false
        },
        "nteract": {
          "transient": {
            "deleting": false
          }
        },
        "execution": {
          "iopub.status.busy": "2020-05-10T09:40:23.719Z",
          "iopub.execute_input": "2020-05-10T09:40:23.721Z",
          "iopub.status.idle": "2020-05-10T09:40:23.725Z",
          "shell.execute_reply": "2020-05-10T09:40:23.727Z"
        }
      }
    },
    {
      "cell_type": "code",
      "source": [
        "def extract_file(file) :\n",
        "    area = 0\n",
        "    door_length, wall_length = 0, 0\n",
        "    nb_door, nb_wall = 0,0\n",
        "    max_number = 0\n",
        "    with open(file,'r') as reader:\n",
        "            lines_wall = []\n",
        "            lines_door = []\n",
        "            for i, line in enumerate(reader): \n",
        "                line_main = line.split()\n",
        "                line = [int(float(x)) for x in line_main[:4]]\n",
        "                for coord in line :\n",
        "                    if coord > max_number :\n",
        "                        max_number = coord\n",
        "                if 'door' in line_main :\n",
        "                    door_length += (abs(line[0] - line[2]) + abs(line[1]-line[3]))\n",
        "                    nb_door+=1\n",
        "                elif 'wall' in line_main :\n",
        "                    wall_length += abs(line[0] - line[2])+ abs(line[1]-line[3])\n",
        "                    nb_wall+=1\n",
        "                elif line_main[4] in room_types:\n",
        "                    area += (abs(line[0] - line[2]) * abs(line[1]-line[3]))\n",
        "\n",
        "    return max_number, door_length, wall_length, area, nb_door, nb_wall"
      ],
      "outputs": [],
      "execution_count": 214,
      "metadata": {
        "collapsed": true,
        "outputExpanded": false,
        "jupyter": {
          "source_hidden": false,
          "outputs_hidden": false
        },
        "nteract": {
          "transient": {
            "deleting": false
          }
        },
        "execution": {
          "iopub.status.busy": "2020-05-10T09:40:24.273Z",
          "iopub.execute_input": "2020-05-10T09:40:24.276Z",
          "iopub.status.idle": "2020-05-10T09:40:24.281Z",
          "shell.execute_reply": "2020-05-10T09:40:24.283Z"
        }
      }
    },
    {
      "cell_type": "code",
      "source": [
        "with open('energy_main__.csv', 'w') as f :\n",
        "    writer = csv.writer(f, delimiter=';')\n",
        "    writer.writerow(['max_number', 'door_length', 'wall_length', 'area','nb_door','nb_wall' ,'cooling', 'heating'])\n",
        "    for index, path in enumerate(paths) :\n",
        "        file = os.listdir(os.path.join(data_folder, path))[0]\n",
        "        max_number, door_length, wall_length, area, nb_door, nb_wall = extract_file(os.path.join(data_folder, path, file))\n",
        "        writer.writerow([max_number, door_length, wall_length, area, nb_door, nb_wall, coolings[index], heatings[index]])\n",
        "#table = pd.read_csv('energy_main.csv', delimiter = \";\")\n",
        "#print(table)"
      ],
      "outputs": [],
      "execution_count": 220,
      "metadata": {
        "collapsed": true,
        "outputExpanded": false,
        "jupyter": {
          "source_hidden": false,
          "outputs_hidden": false
        },
        "nteract": {
          "transient": {
            "deleting": false
          }
        },
        "execution": {
          "iopub.status.busy": "2020-05-10T09:41:12.655Z",
          "iopub.execute_input": "2020-05-10T09:41:12.657Z",
          "iopub.status.idle": "2020-05-10T09:41:13.196Z",
          "shell.execute_reply": "2020-05-10T09:41:13.201Z"
        }
      }
    },
    {
      "cell_type": "code",
      "source": [
        "def process(path_data, training=True, MinMax=None):\n",
        "\n",
        "    x_columns = ['max_number', 'door_length', 'wall_length', 'area','nb_door','nb_wall']\n",
        "    #x_columns = ['volume', 'nb_people', 'wall_area', 'door_area','roof_area', 'space']\n",
        "    y1_column = ['cooling']\n",
        "    y2_column = ['heating']\n",
        "    \n",
        "    data = pd.read_csv(path_data, delimiter =\";\")\n",
        "    \n",
        "    print(data)\n",
        "    X = data[x_columns]\n",
        "    Y1 = data[y1_column]\n",
        "    Y2 = data[y2_column]\n",
        "    if training :\n",
        "        \"\"\" Splitting \"\"\"\n",
        "        X_train_div, X_test_div, y1_train, y1_test = train_test_split(\n",
        "            X, Y1, random_state=5, test_size=0.2)\n",
        "        X_train_div, X_test_div, y2_train, y2_test = train_test_split(\n",
        "            X, Y2, random_state=5, test_size=0.2)\n",
        "\n",
        "        \"\"\" Scaling \"\"\"\n",
        "        MinMax = MinMaxScaler(feature_range=(0, 1))\n",
        "        X_train_div = MinMax.fit_transform(X_train_div)\n",
        "        X_test_div = MinMax.transform(X_test_div)\n",
        "        #return X_train_div, X_test_div, y1_train.to_numpy(), y1_test.to_numpy(), y2_train.to_numpy(), y2_test.to_numpy(), MinMax\n",
        "        return X_train_div, X_test_div, y1_train, y1_test, y2_train, y2_test, MinMax, data\n",
        "\n",
        "    \"\"\" Scaling with previous scaler - If test \"\"\"\n",
        "\n",
        "    X = MinMax.transform(X)\n",
        "    return X, data\n"
      ],
      "outputs": [],
      "execution_count": 233,
      "metadata": {
        "collapsed": true,
        "outputExpanded": false,
        "jupyter": {
          "source_hidden": false,
          "outputs_hidden": false
        },
        "nteract": {
          "transient": {
            "deleting": false
          }
        },
        "execution": {
          "iopub.status.busy": "2020-05-10T09:53:20.936Z",
          "iopub.execute_input": "2020-05-10T09:53:20.939Z",
          "iopub.status.idle": "2020-05-10T09:53:20.943Z",
          "shell.execute_reply": "2020-05-10T09:53:20.946Z"
        }
      }
    },
    {
      "cell_type": "code",
      "source": [
        "path_data = 'energy_main.csv'\n",
        "X_train_div, X_test_div, y1_train, y1_test, y2_train, y2_test, minmax, data = process(\n",
        "    path_data, training=True)"
      ],
      "outputs": [
        {
          "output_type": "stream",
          "name": "stdout",
          "text": [
            "      max_number  door_length  wall_length   area  nb_door  nb_wall  cooling  \\\n",
            "0            533          185         1036   1000        3        6    11254   \n",
            "1            475           42          392   1000        1        4    13620   \n",
            "2            632            0         2076   1000        0        6    14669   \n",
            "3            476           74          396   1000        1        4    14640   \n",
            "4            474          289         2248   1000        8       36    16897   \n",
            "...          ...          ...          ...    ...      ...      ...      ...   \n",
            "1195         347          808         3091  19000       19       64  1605180   \n",
            "1196         491          677         3118  19000       18       65  1665228   \n",
            "1197         372          739         3039  19000       17       57  1665543   \n",
            "1198         620          769         4357  20800       16       65  1689439   \n",
            "1199         518          879         3729  22000       26       68  1772799   \n",
            "\n",
            "      heating  \n",
            "0       11304  \n",
            "1       13868  \n",
            "2       15872  \n",
            "3       14745  \n",
            "4       16534  \n",
            "...       ...  \n",
            "1195  1104861  \n",
            "1196  1149268  \n",
            "1197  1148130  \n",
            "1198  1160818  \n",
            "1199  1218195  \n",
            "\n",
            "[1200 rows x 8 columns]\n"
          ]
        }
      ],
      "execution_count": 234,
      "metadata": {
        "collapsed": true,
        "outputExpanded": false,
        "jupyter": {
          "source_hidden": false,
          "outputs_hidden": false
        },
        "nteract": {
          "transient": {
            "deleting": false
          }
        },
        "execution": {
          "iopub.status.busy": "2020-05-10T09:53:24.761Z",
          "iopub.execute_input": "2020-05-10T09:53:24.764Z",
          "iopub.status.idle": "2020-05-10T09:53:24.771Z",
          "shell.execute_reply": "2020-05-10T09:53:24.774Z"
        }
      }
    },
    {
      "cell_type": "code",
      "source": [
        "#Random Forest\n",
        "param_grid = {'max_features': ['auto', 'log2'],\n",
        "              'max_depth': [100]}  # 10,15,20,30,50,60, also possible change n_estimators\n",
        "# model\n",
        "model = RandomForestRegressor(random_state=5, n_estimators=2000, n_jobs=-1)\n",
        "\n"
      ],
      "outputs": [],
      "execution_count": 235,
      "metadata": {
        "collapsed": true,
        "outputExpanded": false,
        "jupyter": {
          "source_hidden": false,
          "outputs_hidden": false
        },
        "nteract": {
          "transient": {
            "deleting": false
          }
        },
        "execution": {
          "iopub.status.busy": "2020-05-10T09:53:27.437Z",
          "iopub.execute_input": "2020-05-10T09:53:27.441Z",
          "iopub.status.idle": "2020-05-10T09:53:27.445Z",
          "shell.execute_reply": "2020-05-10T09:53:27.447Z"
        }
      }
    },
    {
      "cell_type": "code",
      "source": [
        "#XGB\n",
        "params = {'max_depth':10 , 'min_samples_split': 2,\n",
        "          'learning_rate': 0.0001, 'loss': 'ls'}\n",
        "model = GradientBoostingRegressor(n_estimators = 100)"
      ],
      "outputs": [],
      "execution_count": 236,
      "metadata": {
        "collapsed": true,
        "outputExpanded": false,
        "jupyter": {
          "source_hidden": false,
          "outputs_hidden": false
        },
        "nteract": {
          "transient": {
            "deleting": false
          }
        },
        "execution": {
          "iopub.status.busy": "2020-05-10T09:53:28.770Z",
          "iopub.execute_input": "2020-05-10T09:53:28.772Z",
          "iopub.status.idle": "2020-05-10T09:53:28.777Z",
          "shell.execute_reply": "2020-05-10T09:53:28.779Z"
        }
      }
    },
    {
      "cell_type": "code",
      "source": [
        "\"\"\" Cooling \"\"\"\n",
        "grid_search_rf = MultiOutputRegressor(GridSearchCV(\n",
        "    model, param_grid, cv=5, return_train_score=True, verbose=2))\n",
        "grid_search_rf.fit(X_train_div, y1_train)\n",
        "\n",
        "print('The Train R2 score for cooling load is', r2_score(\n",
        "    y1_train, grid_search_rf.predict(X_train_div)))\n",
        "print('The Test R2 score for cooling load is', r2_score(\n",
        "    y1_test, grid_search_rf.predict(X_test_div)))\n",
        "\n",
        "\"\"\" Heating \"\"\"\n",
        "grid_search_rf2 = MultiOutputRegressor(GridSearchCV(\n",
        "    model, param_grid, cv=5, return_train_score=True, verbose=2))\n",
        "grid_search_rf2.fit(X_train_div, y2_train)\n",
        "\n",
        "print('The Train R2 score for heating load is', r2_score(\n",
        "    y2_train, grid_search_rf2.predict(X_train_div)))\n",
        "print('The Test R2 score for heating load is', r2_score(\n",
        "    y2_test, grid_search_rf2.predict(X_test_div)))\n"
      ],
      "outputs": [
        {
          "output_type": "stream",
          "name": "stdout",
          "text": [
            "Fitting 5 folds for each of 2 candidates, totalling 10 fits\n",
            "[CV] max_depth=100, max_features=auto ................................\n",
            "[CV] ................. max_depth=100, max_features=auto, total=   3.8s\n",
            "[CV] max_depth=100, max_features=auto ................................\n",
            "[CV] ................. max_depth=100, max_features=auto, total=   2.1s\n",
            "[CV] max_depth=100, max_features=auto ................................\n",
            "[CV] ................. max_depth=100, max_features=auto, total=   1.9s\n",
            "[CV] max_depth=100, max_features=auto ................................\n",
            "[CV] ................. max_depth=100, max_features=auto, total=   1.8s\n",
            "[CV] max_depth=100, max_features=auto ................................\n",
            "[CV] ................. max_depth=100, max_features=auto, total=   1.8s\n",
            "[CV] max_depth=100, max_features=log2 ................................\n",
            "[CV] ................. max_depth=100, max_features=log2, total=   1.8s\n",
            "[CV] max_depth=100, max_features=log2 ................................\n",
            "[CV] ................. max_depth=100, max_features=log2, total=   1.7s\n",
            "[CV] max_depth=100, max_features=log2 ................................\n",
            "[CV] ................. max_depth=100, max_features=log2, total=   1.8s\n",
            "[CV] max_depth=100, max_features=log2 ................................\n",
            "[CV] ................. max_depth=100, max_features=log2, total=   1.8s\n",
            "[CV] max_depth=100, max_features=log2 ................................\n",
            "[CV] ................. max_depth=100, max_features=log2, total=   1.8s\n",
            "The Train R2 score for cooling load is 0.9976983552670236\n",
            "The Test R2 score for cooling load is 0.9874804596168466\n"
          ]
        },
        {
          "output_type": "stream",
          "name": "stderr",
          "text": [
            "[Parallel(n_jobs=1)]: Using backend SequentialBackend with 1 concurrent workers.\n",
            "[Parallel(n_jobs=1)]: Done   1 out of   1 | elapsed:    4.0s remaining:    0.0s\n",
            "[Parallel(n_jobs=1)]: Done  10 out of  10 | elapsed:   22.7s finished\n"
          ]
        }
      ],
      "execution_count": 192,
      "metadata": {
        "collapsed": true,
        "outputExpanded": false,
        "jupyter": {
          "source_hidden": false,
          "outputs_hidden": false
        },
        "nteract": {
          "transient": {
            "deleting": false
          }
        },
        "execution": {
          "iopub.status.busy": "2020-05-09T21:37:57.357Z",
          "iopub.execute_input": "2020-05-09T21:37:57.403Z",
          "iopub.status.idle": "2020-05-09T21:38:22.218Z",
          "shell.execute_reply": "2020-05-09T21:38:22.221Z"
        }
      }
    },
    {
      "cell_type": "code",
      "source": [
        "### TEST ###\n",
        "PATH = '../dataset/vectors/'\n",
        "\n",
        "paths_test, coolings_test, heatings_test = [], [], []\n",
        "\n",
        "print('Test data loading...')\n",
        "\n",
        "for path_1 in os.listdir(PATH):\n",
        "    if path_1 == '_DS_Store' or path_1 == '.DS_Store':\n",
        "        continue\n",
        "    PATH_1 = os.path.join(PATH, path_1)\n",
        "    for path_2 in os.listdir(PATH_1):\n",
        "        if path_2 == '.DS_Store':\n",
        "            continue\n",
        "        PATH_2 = os.path.join(PATH_1, path_2)\n",
        "        for path_3 in os.listdir(PATH_2):\n",
        "            if path_3 == '.DS_Store':\n",
        "                continue\n",
        "            PATH_3 = os.path.join(PATH_2, path_3)\n",
        "            txt_path = os.listdir(PATH_3)[0]\n",
        "            txt_path = os.path.join(PATH_3, txt_path)\n",
        "            paths_test.append(txt_path)\n",
        "print(len(paths_test))"
      ],
      "outputs": [
        {
          "output_type": "stream",
          "name": "stdout",
          "text": [
            "Test data loading...\n",
            "101046\n"
          ]
        }
      ],
      "execution_count": 223,
      "metadata": {
        "collapsed": true,
        "outputExpanded": false,
        "jupyter": {
          "source_hidden": false,
          "outputs_hidden": false
        },
        "nteract": {
          "transient": {
            "deleting": false
          }
        },
        "execution": {
          "iopub.status.busy": "2020-05-10T09:43:48.211Z",
          "iopub.execute_input": "2020-05-10T09:43:48.214Z",
          "iopub.status.idle": "2020-05-10T09:43:50.802Z",
          "shell.execute_reply": "2020-05-10T09:43:50.809Z"
        }
      }
    },
    {
      "cell_type": "code",
      "source": [
        "with open('energy_all.csv', 'w') as f :\n",
        "    writer = csv.writer(f, delimiter=';')\n",
        "    writer.writerow(['paths','max_number', 'door_length', 'wall_length', 'area','nb_door','nb_wall' ,'cooling', 'heating'])\n",
        "    for index, path in enumerate(paths_test) :\n",
        "        max_number, door_length, wall_length, area, nb_door, nb_wall = extract_file(path)\n",
        "        writer.writerow([path[19:-9],max_number, door_length, wall_length, area, nb_door, nb_wall])"
      ],
      "outputs": [],
      "execution_count": 263,
      "metadata": {
        "collapsed": true,
        "outputExpanded": false,
        "jupyter": {
          "source_hidden": false,
          "outputs_hidden": false
        },
        "nteract": {
          "transient": {
            "deleting": false
          }
        },
        "execution": {
          "iopub.status.busy": "2020-05-10T10:37:25.289Z",
          "iopub.execute_input": "2020-05-10T10:37:25.292Z",
          "iopub.status.idle": "2020-05-10T10:37:56.870Z",
          "shell.execute_reply": "2020-05-10T10:37:56.880Z"
        }
      }
    },
    {
      "cell_type": "code",
      "source": [
        "path_data_prediction = 'energy_all.csv'\n",
        "# MinMax to scale prediction data\n",
        "X, data_test = process(path_data_prediction, training=False, MinMax=minmax)"
      ],
      "outputs": [
        {
          "output_type": "stream",
          "name": "stdout",
          "text": [
            "                                     paths  max_number  door_length  \\\n",
            "0       0c/61/6407788e3dc8ab96802754f29454         454          865   \n",
            "1       0c/61/9a70ffd39eb8b5ddea8251ae64d2         616          487   \n",
            "2       0c/61/82be7dacf24447ad01ef9ef20ee4        1869         1850   \n",
            "3       0c/61/c3df18a509d7d4c440f9530b81d3         437          418   \n",
            "4       0c/61/5eb69b10672997d4131d2f5ab622        1092         1158   \n",
            "...                                    ...         ...          ...   \n",
            "101041  0a/06/5a342c44a5483c5f7e5989478212         329          181   \n",
            "101042  0a/06/4e5a5332e0a19729ae0034d3420d         785          760   \n",
            "101043  0a/06/dd32b00e8d51f43123f64ea81a98        1885          807   \n",
            "101044  0a/06/001fc1fcde5accb860e2d59389f9         476          519   \n",
            "101045  0a/06/3dc3c277b926eeb841dc3b5c9510         417          476   \n",
            "\n",
            "        wall_length   area  nb_door  nb_wall  cooling  heating  \n",
            "0              3338  18000       22       59      NaN      NaN  \n",
            "1              2476   6000        6       21      NaN      NaN  \n",
            "2              6927   6000        8       21      NaN      NaN  \n",
            "3              1899   9940        9       33      NaN      NaN  \n",
            "4              5793   6000        7       22      NaN      NaN  \n",
            "...             ...    ...      ...      ...      ...      ...  \n",
            "101041         1440   4800        5       21      NaN      NaN  \n",
            "101042         4002  12000        9       41      NaN      NaN  \n",
            "101043         3733   2400        3       12      NaN      NaN  \n",
            "101044         2325   5000        6       18      NaN      NaN  \n",
            "101045         2723  11000       15       47      NaN      NaN  \n",
            "\n",
            "[101046 rows x 9 columns]\n"
          ]
        }
      ],
      "execution_count": 264,
      "metadata": {
        "collapsed": true,
        "outputExpanded": false,
        "jupyter": {
          "source_hidden": false,
          "outputs_hidden": false
        },
        "nteract": {
          "transient": {
            "deleting": false
          }
        },
        "execution": {
          "iopub.status.busy": "2020-05-10T10:37:56.874Z",
          "iopub.execute_input": "2020-05-10T10:37:56.877Z",
          "iopub.status.idle": "2020-05-10T10:37:56.996Z",
          "shell.execute_reply": "2020-05-10T10:37:57.005Z"
        }
      }
    },
    {
      "cell_type": "code",
      "source": [
        "cooling_pred = grid_search_rf.predict(X)\n",
        "prediction_cooling = pd.DataFrame(\n",
        "    cooling_pred, columns=['Cooling_Load'])\n",
        "\n",
        "heating_pred = grid_search_rf2.predict(X)\n",
        "prediction_heating = pd.DataFrame(\n",
        "    heating_pred, columns=['Heating_Load'])"
      ],
      "outputs": [],
      "execution_count": 238,
      "metadata": {
        "collapsed": true,
        "outputExpanded": false,
        "jupyter": {
          "source_hidden": false,
          "outputs_hidden": false
        },
        "nteract": {
          "transient": {
            "deleting": false
          }
        },
        "execution": {
          "iopub.status.busy": "2020-05-10T09:53:57.490Z",
          "iopub.execute_input": "2020-05-10T09:53:57.494Z",
          "iopub.status.idle": "2020-05-10T09:54:00.170Z",
          "shell.execute_reply": "2020-05-10T09:54:00.173Z"
        }
      }
    },
    {
      "cell_type": "code",
      "source": [
        "path_dfs = data_test['paths']\n",
        "full = pd.concat([path_dfs, prediction_cooling.apply(np.int64), prediction_heating.apply(np.int64)], axis = 1).to_csv('all.csv')"
      ],
      "outputs": [],
      "execution_count": 262,
      "metadata": {
        "collapsed": true,
        "outputExpanded": false,
        "jupyter": {
          "source_hidden": false,
          "outputs_hidden": false
        },
        "nteract": {
          "transient": {
            "deleting": false
          }
        },
        "execution": {
          "iopub.status.busy": "2020-05-10T10:01:53.226Z",
          "iopub.execute_input": "2020-05-10T10:01:53.229Z",
          "iopub.status.idle": "2020-05-10T10:01:53.439Z",
          "shell.execute_reply": "2020-05-10T10:01:53.441Z"
        }
      }
    },
    {
      "cell_type": "code",
      "source": [],
      "outputs": [],
      "execution_count": null,
      "metadata": {
        "collapsed": true,
        "outputExpanded": false,
        "jupyter": {
          "source_hidden": false,
          "outputs_hidden": false
        },
        "nteract": {
          "transient": {
            "deleting": false
          }
        }
      }
    }
  ],
  "metadata": {
    "kernel_info": {
      "name": "python3"
    },
    "language_info": {
      "name": "python",
      "version": "3.7.6",
      "mimetype": "text/x-python",
      "codemirror_mode": {
        "name": "ipython",
        "version": 3
      },
      "pygments_lexer": "ipython3",
      "nbconvert_exporter": "python",
      "file_extension": ".py"
    },
    "kernelspec": {
      "argv": [
        "/Users/alex/opt/anaconda3/bin/python",
        "-m",
        "ipykernel_launcher",
        "-f",
        "{connection_file}"
      ],
      "display_name": "Python 3",
      "language": "python",
      "name": "python3"
    },
    "nteract": {
      "version": "0.22.4"
    }
  },
  "nbformat": 4,
  "nbformat_minor": 0
}