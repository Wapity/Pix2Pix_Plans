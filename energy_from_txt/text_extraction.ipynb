{
  "cells": [
    {
      "cell_type": "code",
      "source": [
        "import os\n",
        "import csv\n",
        "import numpy as np\n",
        "import pandas as pd\n",
        "\n",
        "from sklearn.preprocessing import MinMaxScaler\n",
        "from sklearn.model_selection import train_test_split\n",
        "from sklearn.model_selection import GridSearchCV\n",
        "from sklearn.metrics import r2_score\n",
        "from sklearn.ensemble import RandomForestRegressor\n",
        "from sklearn.multioutput import MultiOutputRegressor\n",
        "from sklearn.ensemble import GradientBoostingRegressor"
      ],
      "outputs": [],
      "execution_count": 1,
      "metadata": {
        "collapsed": true,
        "outputExpanded": false,
        "jupyter": {
          "source_hidden": false,
          "outputs_hidden": false
        },
        "nteract": {
          "transient": {
            "deleting": false
          }
        },
        "execution": {
          "iopub.status.busy": "2020-06-06T16:54:45.867Z",
          "iopub.execute_input": "2020-06-06T16:54:45.869Z",
          "iopub.status.idle": "2020-06-06T16:54:46.588Z",
          "shell.execute_reply": "2020-06-06T16:54:46.612Z"
        }
      }
    },
    {
      "cell_type": "code",
      "source": [
        "data_folder = '../dataset/vectors/'\n",
        "#changed files (original one changed) #here for concept\n",
        "paths, coolings, heatings = [], [], []\n",
        "with open('all.csv', 'r') as reader:\n",
        "    for line in list(reader)[1:1470]:\n",
        "        sample = line.split(';')[1:]\n",
        "        paths.append('/'.join(sample[0].split('/')))\n",
        "        coolings.append(int(sample[2]))\n",
        "        heatings.append(int(sample[3][:-2]))\n",
        "heatings = np.array(heatings)\n",
        "coolings = np.array(coolings)\n",
        "num_samples = len(paths)\n",
        "print(num_samples)\n",
        "#All paths\n",
        "paths_all = []\n",
        "with open('all.csv', 'r') as reader:\n",
        "    for line in list(reader)[1:]:\n",
        "        sample = line.split(';')[1:]\n",
        "        paths_all.append('/'.join(sample[0].split('/')))\n",
        "\n",
        "num_samples = len(paths_all)\n",
        "print(num_samples)"
      ],
      "outputs": [
        {
          "output_type": "stream",
          "name": "stdout",
          "text": [
            "1469\n",
            "101002\n"
          ]
        }
      ],
      "execution_count": 2,
      "metadata": {
        "collapsed": true,
        "outputExpanded": false,
        "jupyter": {
          "source_hidden": false,
          "outputs_hidden": false
        },
        "nteract": {
          "transient": {
            "deleting": false
          }
        },
        "execution": {
          "iopub.status.busy": "2020-06-06T16:54:46.597Z",
          "iopub.execute_input": "2020-06-06T16:54:46.602Z",
          "iopub.status.idle": "2020-06-06T16:54:46.754Z",
          "shell.execute_reply": "2020-06-06T16:54:46.827Z"
        }
      }
    },
    {
      "cell_type": "code",
      "source": [
        "room_types = ['living_room', 'kitchen', 'bedroom',\n",
        "    'bathroom', 'restroom', 'washing_room',\n",
        "    'office', 'closet', 'balcony',\n",
        "    'corridor', 'dining_room','laundry_room',\n",
        "    'PS']\n"
      ],
      "outputs": [],
      "execution_count": 3,
      "metadata": {
        "collapsed": true,
        "outputExpanded": false,
        "jupyter": {
          "source_hidden": false,
          "outputs_hidden": false
        },
        "nteract": {
          "transient": {
            "deleting": false
          }
        },
        "execution": {
          "iopub.status.busy": "2020-06-06T16:54:46.761Z",
          "iopub.execute_input": "2020-06-06T16:54:46.766Z",
          "iopub.status.idle": "2020-06-06T16:54:46.775Z",
          "shell.execute_reply": "2020-06-06T16:54:46.839Z"
        }
      }
    },
    {
      "cell_type": "code",
      "source": [
        "def extract_file(file) :\n",
        "    area = 0\n",
        "    door_length, wall_length = 0, 0\n",
        "    nb_door, nb_wall = 0,0\n",
        "    max_number = 0\n",
        "    with open(file,'r') as reader:\n",
        "            lines_wall = []\n",
        "            lines_door = []\n",
        "            for i, line in enumerate(reader): \n",
        "                line_main = line.split()\n",
        "                line = [int(float(x)) for x in line_main[:4]]\n",
        "                for coord in line :\n",
        "                    if coord > max_number :\n",
        "                        max_number = coord\n",
        "                if 'door' in line_main :\n",
        "                    door_length += (abs(line[0] - line[2]) + abs(line[1]-line[3]))\n",
        "                    nb_door+=1\n",
        "                elif 'wall' in line_main :\n",
        "                    wall_length += abs(line[0] - line[2])+ abs(line[1]-line[3])\n",
        "                    nb_wall+=1\n",
        "                elif line_main[4] in room_types:\n",
        "                    area += (abs(line[0] - line[2]) * abs(line[1]-line[3]))\n",
        "\n",
        "    return max_number, door_length, wall_length, area, nb_door, nb_wall"
      ],
      "outputs": [],
      "execution_count": 4,
      "metadata": {
        "collapsed": true,
        "outputExpanded": false,
        "jupyter": {
          "source_hidden": false,
          "outputs_hidden": false
        },
        "nteract": {
          "transient": {
            "deleting": false
          }
        },
        "execution": {
          "iopub.status.busy": "2020-06-06T16:54:46.782Z",
          "iopub.execute_input": "2020-06-06T16:54:46.786Z",
          "iopub.status.idle": "2020-06-06T16:54:46.795Z",
          "shell.execute_reply": "2020-06-06T16:54:46.843Z"
        }
      }
    },
    {
      "cell_type": "code",
      "source": [
        "with open('energy_main__.csv', 'w') as f :\n",
        "    writer = csv.writer(f, delimiter=';')\n",
        "    writer.writerow(['max_number', 'door_length', 'wall_length', 'area','nb_door','nb_wall' ,'cooling', 'heating'])\n",
        "    for index, path in enumerate(paths) :\n",
        "        file = os.listdir(os.path.join(data_folder, path))[0]\n",
        "        max_number, door_length, wall_length, area, nb_door, nb_wall = extract_file(os.path.join(data_folder, path, file))\n",
        "        writer.writerow([max_number, door_length, wall_length, area, nb_door, nb_wall, coolings[index], heatings[index]])"
      ],
      "outputs": [],
      "execution_count": 5,
      "metadata": {
        "collapsed": true,
        "outputExpanded": false,
        "jupyter": {
          "source_hidden": false,
          "outputs_hidden": false
        },
        "nteract": {
          "transient": {
            "deleting": false
          }
        },
        "execution": {
          "iopub.status.busy": "2020-06-06T16:54:46.802Z",
          "iopub.execute_input": "2020-06-06T16:54:46.807Z",
          "iopub.status.idle": "2020-06-06T16:54:47.309Z",
          "shell.execute_reply": "2020-06-06T16:54:47.401Z"
        }
      }
    },
    {
      "cell_type": "code",
      "source": [
        "def process(path_data, training=True, MinMax=None):\n",
        "\n",
        "    x_columns = ['max_number', 'door_length', 'wall_length', 'area','nb_door','nb_wall']\n",
        "    #x_columns = ['volume', 'nb_people', 'wall_area', 'door_area','roof_area', 'space']\n",
        "    y1_column = ['cooling']\n",
        "    y2_column = ['heating']\n",
        "    \n",
        "    data = pd.read_csv(path_data, delimiter =\";\")\n",
        "    \n",
        "    print(data)\n",
        "    X = data[x_columns]\n",
        "    Y1 = data[y1_column]\n",
        "    Y2 = data[y2_column]\n",
        "    if training :\n",
        "        \"\"\" Splitting \"\"\"\n",
        "        X_train_div, X_test_div, y1_train, y1_test = train_test_split(\n",
        "            X, Y1, random_state=5, test_size=0.2)\n",
        "        X_train_div, X_test_div, y2_train, y2_test = train_test_split(\n",
        "            X, Y2, random_state=5, test_size=0.2)\n",
        "\n",
        "        \"\"\" Scaling \"\"\"\n",
        "        MinMax = MinMaxScaler(feature_range=(0, 1))\n",
        "        X_train_div = MinMax.fit_transform(X_train_div)\n",
        "        X_test_div = MinMax.transform(X_test_div)\n",
        "        #return X_train_div, X_test_div, y1_train.to_numpy(), y1_test.to_numpy(), y2_train.to_numpy(), y2_test.to_numpy(), MinMax\n",
        "        return X_train_div, X_test_div, y1_train, y1_test, y2_train, y2_test, MinMax, data\n",
        "\n",
        "    \"\"\" Scaling with previous scaler - If test \"\"\"\n",
        "\n",
        "    X = MinMax.transform(X)\n",
        "    return X, data\n"
      ],
      "outputs": [],
      "execution_count": 6,
      "metadata": {
        "collapsed": true,
        "outputExpanded": false,
        "jupyter": {
          "source_hidden": false,
          "outputs_hidden": false
        },
        "nteract": {
          "transient": {
            "deleting": false
          }
        },
        "execution": {
          "iopub.status.busy": "2020-06-06T16:54:47.316Z",
          "iopub.execute_input": "2020-06-06T16:54:47.320Z",
          "iopub.status.idle": "2020-06-06T16:54:47.325Z",
          "shell.execute_reply": "2020-06-06T16:54:47.404Z"
        }
      }
    },
    {
      "cell_type": "code",
      "source": [
        "path_data = 'energy_main__.csv'\n",
        "X_train_div, X_test_div, y1_train, y1_test, y2_train, y2_test, minmax, data = process(\n",
        "    path_data, training=True)"
      ],
      "outputs": [
        {
          "output_type": "stream",
          "name": "stdout",
          "text": [
            "      max_number  door_length  wall_length   area  nb_door  nb_wall  cooling  \\\n",
            "0            454          865         3338  18000       22       59  1558596   \n",
            "1            616          487         2476   6000        6       21    52084   \n",
            "2           1869         1850         6927   6000        8       21    53471   \n",
            "3            437          418         1899   9940        9       33   104082   \n",
            "4           1092         1158         5793   6000        7       22    53315   \n",
            "...          ...          ...          ...    ...      ...      ...      ...   \n",
            "1464         418          490         2196   7000       10       28    63586   \n",
            "1465         329          188          993   5000        7       19    44009   \n",
            "1466        1035          752         4560  10000        8       30   113349   \n",
            "1467         632          566         2851   4000        4       13    37302   \n",
            "1468         473          930         2700   9000       11       30    95234   \n",
            "\n",
            "      heating  \n",
            "0       10819  \n",
            "1         439  \n",
            "2         457  \n",
            "3         820  \n",
            "4         449  \n",
            "...       ...  \n",
            "1464      533  \n",
            "1465      382  \n",
            "1466      885  \n",
            "1467      328  \n",
            "1468      760  \n",
            "\n",
            "[1469 rows x 8 columns]\n"
          ]
        }
      ],
      "execution_count": 7,
      "metadata": {
        "collapsed": true,
        "outputExpanded": false,
        "jupyter": {
          "source_hidden": false,
          "outputs_hidden": false
        },
        "nteract": {
          "transient": {
            "deleting": false
          }
        },
        "execution": {
          "iopub.status.busy": "2020-06-06T16:54:47.331Z",
          "iopub.execute_input": "2020-06-06T16:54:47.334Z",
          "iopub.status.idle": "2020-06-06T16:54:47.344Z",
          "shell.execute_reply": "2020-06-06T16:54:47.406Z"
        }
      }
    },
    {
      "cell_type": "code",
      "source": [
        "#Random Forest\n",
        "param_grid = {'max_features': ['auto', 'log2'],\n",
        "              'max_depth': [100]}  # 10,15,20,30,50,60, also possible change n_estimators\n",
        "# model\n",
        "model = RandomForestRegressor(random_state=5, n_estimators=2000, n_jobs=-1)\n",
        "\n"
      ],
      "outputs": [],
      "execution_count": 8,
      "metadata": {
        "collapsed": true,
        "outputExpanded": false,
        "jupyter": {
          "source_hidden": false,
          "outputs_hidden": false
        },
        "nteract": {
          "transient": {
            "deleting": false
          }
        },
        "execution": {
          "iopub.status.busy": "2020-06-06T16:54:47.351Z",
          "iopub.execute_input": "2020-06-06T16:54:47.355Z",
          "iopub.status.idle": "2020-06-06T16:54:47.360Z",
          "shell.execute_reply": "2020-06-06T16:54:47.409Z"
        }
      }
    },
    {
      "cell_type": "code",
      "source": [
        "#XGB\n",
        "params = {'max_depth':10 , 'min_samples_split': 2,\n",
        "          'learning_rate': 0.0001, 'loss': 'ls'}\n",
        "model = GradientBoostingRegressor(n_estimators = 100)"
      ],
      "outputs": [],
      "execution_count": 9,
      "metadata": {
        "collapsed": true,
        "outputExpanded": false,
        "jupyter": {
          "source_hidden": false,
          "outputs_hidden": false
        },
        "nteract": {
          "transient": {
            "deleting": false
          }
        },
        "execution": {
          "iopub.status.busy": "2020-06-06T16:54:47.365Z",
          "iopub.execute_input": "2020-06-06T16:54:47.370Z",
          "iopub.status.idle": "2020-06-06T16:54:47.376Z",
          "shell.execute_reply": "2020-06-06T16:54:47.413Z"
        }
      }
    },
    {
      "cell_type": "code",
      "source": [
        "\"\"\" Cooling \"\"\"\n",
        "grid_search_rf = MultiOutputRegressor(GridSearchCV(\n",
        "    model, param_grid, cv=5, return_train_score=True, verbose=2))\n",
        "grid_search_rf.fit(X_train_div, y1_train)\n",
        "\n",
        "print('The Train R2 score for cooling load is', r2_score(\n",
        "    y1_train, grid_search_rf.predict(X_train_div)))\n",
        "print('The Test R2 score for cooling load is', r2_score(\n",
        "    y1_test, grid_search_rf.predict(X_test_div)))\n",
        "\n",
        "\"\"\" Heating \"\"\"\n",
        "grid_search_rf2 = MultiOutputRegressor(GridSearchCV(\n",
        "    model, param_grid, cv=5, return_train_score=True, verbose=2))\n",
        "grid_search_rf2.fit(X_train_div, y2_train)\n",
        "\n",
        "print('The Train R2 score for heating load is', r2_score(\n",
        "    y2_train, grid_search_rf2.predict(X_train_div)))\n",
        "print('The Test R2 score for heating load is', r2_score(\n",
        "    y2_test, grid_search_rf2.predict(X_test_div)))\n"
      ],
      "outputs": [
        {
          "output_type": "stream",
          "name": "stdout",
          "text": [
            "Fitting 5 folds for each of 2 candidates, totalling 10 fits\n",
            "[CV] max_depth=100, max_features=auto ................................\n",
            "[CV] ................. max_depth=100, max_features=auto, total=   0.4s\n",
            "[CV] max_depth=100, max_features=auto ................................\n",
            "[CV] ................. max_depth=100, max_features=auto, total=   0.3s\n",
            "[CV] max_depth=100, max_features=auto ................................\n",
            "[CV] ................. max_depth=100, max_features=auto, total=   0.3s\n",
            "[CV] max_depth=100, max_features=auto ................................\n",
            "[CV] ................. max_depth=100, max_features=auto, total=   0.3s\n",
            "[CV] max_depth=100, max_features=auto ................................\n",
            "[CV] ................. max_depth=100, max_features=auto, total=   0.3s\n",
            "[CV] max_depth=100, max_features=log2 ................................\n",
            "[CV] ................. max_depth=100, max_features=log2, total=   0.1s\n",
            "[CV] max_depth=100, max_features=log2 ................................\n",
            "[CV] ................. max_depth=100, max_features=log2, total=   0.2s\n",
            "[CV] max_depth=100, max_features=log2 ................................\n",
            "[CV] ................. max_depth=100, max_features=log2, total=   0.1s\n",
            "[CV] max_depth=100, max_features=log2 ................................\n",
            "[CV] ................. max_depth=100, max_features=log2, total=   0.2s\n",
            "[CV] max_depth=100, max_features=log2 ................................\n",
            "[CV] ................. max_depth=100, max_features=log2, total=   0.1s\n",
            "The Train R2 score for cooling load is 0.9999999992944921\n",
            "The Test R2 score for cooling load is 0.99938173703029\n",
            "Fitting 5 folds for each of 2 candidates, totalling 10 fits\n",
            "[CV] max_depth=100, max_features=auto ................................\n",
            "[CV] ................. max_depth=100, max_features=auto, total=   0.3s\n",
            "[CV] max_depth=100, max_features=auto ................................\n",
            "[CV] ................. max_depth=100, max_features=auto, total=   0.3s\n",
            "[CV] max_depth=100, max_features=auto ................................\n",
            "[CV] ................. max_depth=100, max_features=auto, total=   0.3s\n",
            "[CV] max_depth=100, max_features=auto ................................\n",
            "[CV] ................. max_depth=100, max_features=auto, total=   0.3s\n",
            "[CV] max_depth=100, max_features=auto ................................\n",
            "[CV] ................. max_depth=100, max_features=auto, total=   0.3s\n",
            "[CV] max_depth=100, max_features=log2 ................................\n",
            "[CV] ................. max_depth=100, max_features=log2, total=   0.1s\n",
            "[CV] max_depth=100, max_features=log2 ................................\n",
            "[CV] ................. max_depth=100, max_features=log2, total=   0.1s\n",
            "[CV] max_depth=100, max_features=log2 ................................\n",
            "[CV] ................. max_depth=100, max_features=log2, total=   0.1s\n",
            "[CV] max_depth=100, max_features=log2 ................................\n",
            "[CV] ................. max_depth=100, max_features=log2, total=   0.2s\n",
            "[CV] max_depth=100, max_features=log2 ................................\n",
            "[CV] ................. max_depth=100, max_features=log2, total=   0.1s\n",
            "The Train R2 score for heating load is 0.9999999992944774\n",
            "The Test R2 score for heating load is 0.999134014309797\n"
          ]
        },
        {
          "output_type": "stream",
          "name": "stderr",
          "text": [
            "[Parallel(n_jobs=1)]: Using backend SequentialBackend with 1 concurrent workers.\n",
            "[Parallel(n_jobs=1)]: Done   1 out of   1 | elapsed:    0.4s remaining:    0.0s\n",
            "[Parallel(n_jobs=1)]: Done  10 out of  10 | elapsed:    2.5s finished\n",
            "[Parallel(n_jobs=1)]: Using backend SequentialBackend with 1 concurrent workers.\n",
            "[Parallel(n_jobs=1)]: Done   1 out of   1 | elapsed:    0.4s remaining:    0.0s\n",
            "[Parallel(n_jobs=1)]: Done  10 out of  10 | elapsed:    2.4s finished\n"
          ]
        }
      ],
      "execution_count": 10,
      "metadata": {
        "collapsed": true,
        "outputExpanded": false,
        "jupyter": {
          "source_hidden": false,
          "outputs_hidden": false
        },
        "nteract": {
          "transient": {
            "deleting": false
          }
        },
        "execution": {
          "iopub.status.busy": "2020-06-06T16:54:47.382Z",
          "iopub.execute_input": "2020-06-06T16:54:47.385Z",
          "iopub.status.idle": "2020-06-06T16:54:53.065Z",
          "shell.execute_reply": "2020-06-06T16:54:53.084Z"
        }
      }
    },
    {
      "cell_type": "code",
      "source": [
        "### TEST ###\n",
        "PATH = '../dataset/vectors/'\n",
        "\n",
        "paths_test, coolings_test, heatings_test = [], [], []\n",
        "\n",
        "print('Test data loading...')\n",
        "\n",
        "for path_1 in os.listdir(PATH):\n",
        "    if path_1 == '_DS_Store' or path_1 == '.DS_Store':\n",
        "        continue\n",
        "    PATH_1 = os.path.join(PATH, path_1)\n",
        "    for path_2 in os.listdir(PATH_1):\n",
        "        if path_2 == '.DS_Store':\n",
        "            continue\n",
        "        PATH_2 = os.path.join(PATH_1, path_2)\n",
        "        for path_3 in os.listdir(PATH_2):\n",
        "            if path_3 == '.DS_Store':\n",
        "                continue\n",
        "            PATH_3 = os.path.join(PATH_2, path_3)\n",
        "            txt_path = os.listdir(PATH_3)[0]\n",
        "            txt_path = os.path.join(PATH_3, txt_path)\n",
        "            paths_test.append(txt_path)\n",
        "print(len(paths_test))"
      ],
      "outputs": [
        {
          "output_type": "stream",
          "name": "stdout",
          "text": [
            "Test data loading...\n",
            "101046\n"
          ]
        }
      ],
      "execution_count": 11,
      "metadata": {
        "collapsed": true,
        "outputExpanded": false,
        "jupyter": {
          "source_hidden": false,
          "outputs_hidden": false
        },
        "nteract": {
          "transient": {
            "deleting": false
          }
        },
        "execution": {
          "iopub.status.busy": "2020-06-06T16:54:53.069Z",
          "iopub.execute_input": "2020-06-06T16:54:53.072Z",
          "iopub.status.idle": "2020-06-06T16:54:57.567Z",
          "shell.execute_reply": "2020-06-06T16:54:57.720Z"
        }
      }
    },
    {
      "cell_type": "code",
      "source": [
        "### TEST ###\n",
        "import glob\n",
        "PATH = '../outputs/04-29_18-55-48/rtv/'\n",
        "\n",
        "paths_test, coolings_test, heatings_test = [], [], []\n",
        "\n",
        "print('Test data loading...')\n",
        "#paths_test = glob.glob(PATH + '/*_sum.txt')\n",
        "paths_test = ['../outputs/06-06_18-53-00/rtv/sample_2_gap_7_dist_5_length_5_wall_0.01_floorplan.txt']\n",
        "print(paths_test)\n",
        "print(len(paths_test))"
      ],
      "outputs": [
        {
          "output_type": "stream",
          "name": "stdout",
          "text": [
            "Test data loading...\n",
            "['../outputs/06-06_18-53-00/rtv/sample_2_gap_7_dist_5_length_5_wall_0.01_floorplan.txt']\n",
            "1\n"
          ]
        }
      ],
      "execution_count": 34,
      "metadata": {
        "collapsed": true,
        "outputExpanded": false,
        "jupyter": {
          "source_hidden": false,
          "outputs_hidden": false
        },
        "nteract": {
          "transient": {
            "deleting": false
          }
        },
        "execution": {
          "iopub.status.busy": "2020-06-06T17:02:59.892Z",
          "iopub.execute_input": "2020-06-06T17:02:59.896Z",
          "iopub.status.idle": "2020-06-06T17:02:59.903Z",
          "shell.execute_reply": "2020-06-06T17:02:59.908Z"
        }
      }
    },
    {
      "cell_type": "code",
      "source": [
        "with open('features_output.csv', 'w') as f :\n",
        "    writer = csv.writer(f, delimiter=';')\n",
        "    writer.writerow(['paths','max_number', 'door_length', 'wall_length', 'area','nb_door','nb_wall' ,'cooling', 'heating'])\n",
        "    for index, path in enumerate(paths_test) :\n",
        "        max_number, door_length, wall_length, area, nb_door, nb_wall = extract_file(path)\n",
        "        writer.writerow([path[19:-9],max_number, door_length, wall_length, area, nb_door, nb_wall])"
      ],
      "outputs": [],
      "execution_count": 35,
      "metadata": {
        "collapsed": true,
        "outputExpanded": false,
        "jupyter": {
          "source_hidden": false,
          "outputs_hidden": false
        },
        "nteract": {
          "transient": {
            "deleting": false
          }
        },
        "execution": {
          "iopub.status.busy": "2020-06-06T17:03:00.245Z",
          "iopub.execute_input": "2020-06-06T17:03:00.249Z",
          "iopub.status.idle": "2020-06-06T17:03:00.254Z",
          "shell.execute_reply": "2020-06-06T17:03:00.258Z"
        }
      }
    },
    {
      "cell_type": "code",
      "source": [
        "path_data_prediction = 'features_output.csv'\n",
        "# MinMax to scale prediction data\n",
        "X, data_test = process(path_data_prediction, training=False, MinMax=minmax)"
      ],
      "outputs": [
        {
          "output_type": "stream",
          "name": "stdout",
          "text": [
            "                                               paths  max_number  door_length  \\\n",
            "0  -53-00/rtv/sample_2_gap_7_dist_5_length_5_wall...         238          127   \n",
            "\n",
            "   wall_length  area  nb_door  nb_wall  cooling  heating  \n",
            "0         1112     0        4       22      NaN      NaN  \n"
          ]
        }
      ],
      "execution_count": 65,
      "metadata": {
        "collapsed": true,
        "outputExpanded": false,
        "jupyter": {
          "source_hidden": false,
          "outputs_hidden": false
        },
        "nteract": {
          "transient": {
            "deleting": false
          }
        },
        "execution": {
          "iopub.status.busy": "2020-06-06T17:13:23.006Z",
          "iopub.execute_input": "2020-06-06T17:13:23.010Z",
          "iopub.status.idle": "2020-06-06T17:13:23.021Z",
          "shell.execute_reply": "2020-06-06T17:13:23.028Z"
        }
      }
    },
    {
      "cell_type": "code",
      "source": [
        "cooling_pred = grid_search_rf.predict(X)\n",
        "prediction_cooling = pd.DataFrame(\n",
        "    cooling_pred, columns=['Cooling_Load'])\n",
        "\n",
        "heating_pred = grid_search_rf2.predict(X)\n",
        "prediction_heating = pd.DataFrame(\n",
        "    heating_pred, columns=['Heating_Load'])\n",
        "\n",
        "print(cooling_pred,heating_pred)"
      ],
      "outputs": [
        {
          "output_type": "stream",
          "name": "stdout",
          "text": [
            "[[20688.41451129]] [[199.50701566]]\n"
          ]
        }
      ],
      "execution_count": 83,
      "metadata": {
        "collapsed": true,
        "outputExpanded": false,
        "jupyter": {
          "source_hidden": false,
          "outputs_hidden": false
        },
        "nteract": {
          "transient": {
            "deleting": false
          }
        },
        "execution": {
          "iopub.status.busy": "2020-06-06T17:22:44.647Z",
          "iopub.execute_input": "2020-06-06T17:22:44.652Z",
          "iopub.status.idle": "2020-06-06T17:22:44.662Z",
          "shell.execute_reply": "2020-06-06T17:22:44.668Z"
        }
      }
    },
    {
      "cell_type": "code",
      "source": [
        "path_dfs = data_test['paths']\n",
        "full = pd.concat([path_dfs, prediction_cooling.apply(np.int64), prediction_heating.apply(np.int64)], axis = 1).to_csv('energy_output.csv')"
      ],
      "outputs": [],
      "execution_count": 56,
      "metadata": {
        "collapsed": true,
        "outputExpanded": false,
        "jupyter": {
          "source_hidden": false,
          "outputs_hidden": false
        },
        "nteract": {
          "transient": {
            "deleting": false
          }
        },
        "execution": {
          "iopub.status.busy": "2020-06-06T17:11:00.788Z",
          "iopub.execute_input": "2020-06-06T17:11:00.792Z",
          "iopub.status.idle": "2020-06-06T17:11:00.798Z",
          "shell.execute_reply": "2020-06-06T17:11:00.803Z"
        }
      }
    },
    {
      "cell_type": "code",
      "source": [
        "X[0,3] = X_train_div[idx_min][3]"
      ],
      "outputs": [],
      "execution_count": 82,
      "metadata": {
        "collapsed": true,
        "outputExpanded": false,
        "jupyter": {
          "source_hidden": false,
          "outputs_hidden": false
        },
        "nteract": {
          "transient": {
            "deleting": false
          }
        },
        "execution": {
          "iopub.status.busy": "2020-06-06T17:22:40.965Z",
          "iopub.execute_input": "2020-06-06T17:22:40.971Z",
          "iopub.status.idle": "2020-06-06T17:22:40.979Z",
          "shell.execute_reply": "2020-06-06T17:22:40.983Z"
        }
      }
    },
    {
      "cell_type": "code",
      "source": [
        "X_train_div.shape"
      ],
      "outputs": [
        {
          "output_type": "execute_result",
          "execution_count": 60,
          "data": {
            "text/plain": [
              "(1175, 6)"
            ]
          },
          "metadata": {}
        }
      ],
      "execution_count": 60,
      "metadata": {
        "collapsed": true,
        "outputExpanded": false,
        "jupyter": {
          "source_hidden": false,
          "outputs_hidden": false
        },
        "nteract": {
          "transient": {
            "deleting": false
          }
        },
        "execution": {
          "iopub.status.busy": "2020-06-06T17:11:52.939Z",
          "iopub.execute_input": "2020-06-06T17:11:52.945Z",
          "iopub.status.idle": "2020-06-06T17:11:52.953Z",
          "shell.execute_reply": "2020-06-06T17:11:52.957Z"
        }
      }
    },
    {
      "cell_type": "code",
      "source": [
        "idx_min = np.argmin(np.linalg.norm(X_train_div-X,ord=2,axis=1))"
      ],
      "outputs": [],
      "execution_count": 68,
      "metadata": {
        "collapsed": true,
        "outputExpanded": false,
        "jupyter": {
          "source_hidden": false,
          "outputs_hidden": false
        },
        "nteract": {
          "transient": {
            "deleting": false
          }
        },
        "execution": {
          "iopub.status.busy": "2020-06-06T17:13:53.362Z",
          "iopub.execute_input": "2020-06-06T17:13:53.367Z",
          "iopub.status.idle": "2020-06-06T17:13:53.374Z",
          "shell.execute_reply": "2020-06-06T17:13:53.378Z"
        }
      }
    },
    {
      "cell_type": "code",
      "source": [
        "X_train_div[idx_min]"
      ],
      "outputs": [
        {
          "output_type": "execute_result",
          "execution_count": 69,
          "data": {
            "text/plain": [
              "array([0.08794248, 0.0436747 , 0.05054063, 0.03571429, 0.11111111,\n",
              "       0.05050505])"
            ]
          },
          "metadata": {}
        }
      ],
      "execution_count": 69,
      "metadata": {
        "collapsed": true,
        "outputExpanded": false,
        "jupyter": {
          "source_hidden": false,
          "outputs_hidden": false
        },
        "nteract": {
          "transient": {
            "deleting": false
          }
        },
        "execution": {
          "iopub.status.busy": "2020-06-06T17:14:11.252Z",
          "iopub.execute_input": "2020-06-06T17:14:11.256Z",
          "iopub.status.idle": "2020-06-06T17:14:11.264Z",
          "shell.execute_reply": "2020-06-06T17:14:11.267Z"
        }
      }
    },
    {
      "cell_type": "code",
      "source": [
        "X"
      ],
      "outputs": [
        {
          "output_type": "execute_result",
          "execution_count": 70,
          "data": {
            "text/plain": [
              "array([[ 0.08130531,  0.03825301,  0.06880734, -0.03571429,  0.14814815,\n",
              "         0.18181818]])"
            ]
          },
          "metadata": {}
        }
      ],
      "execution_count": 70,
      "metadata": {
        "collapsed": true,
        "outputExpanded": false,
        "jupyter": {
          "source_hidden": false,
          "outputs_hidden": false
        },
        "nteract": {
          "transient": {
            "deleting": false
          }
        },
        "execution": {
          "iopub.status.busy": "2020-06-06T17:14:14.063Z",
          "iopub.execute_input": "2020-06-06T17:14:14.069Z",
          "iopub.status.idle": "2020-06-06T17:14:14.077Z",
          "shell.execute_reply": "2020-06-06T17:14:14.081Z"
        }
      }
    },
    {
      "cell_type": "code",
      "source": [
        "y1_train.to_numpy()[idx_min],y2_train.to_numpy()[idx_min]"
      ],
      "outputs": [
        {
          "output_type": "execute_result",
          "execution_count": 81,
          "data": {
            "text/plain": [
              "(array([20664]), array([200]))"
            ]
          },
          "metadata": {}
        }
      ],
      "execution_count": 81,
      "metadata": {
        "collapsed": true,
        "outputExpanded": false,
        "jupyter": {
          "source_hidden": false,
          "outputs_hidden": false
        },
        "nteract": {
          "transient": {
            "deleting": false
          }
        },
        "execution": {
          "iopub.status.busy": "2020-06-06T17:17:24.248Z",
          "iopub.execute_input": "2020-06-06T17:17:24.254Z",
          "iopub.status.idle": "2020-06-06T17:17:24.262Z",
          "shell.execute_reply": "2020-06-06T17:17:24.266Z"
        }
      }
    },
    {
      "cell_type": "code",
      "source": [
        "bla = y1_train.to_numpy()/y2_train.to_numpy()"
      ],
      "outputs": [
        {
          "output_type": "execute_result",
          "execution_count": 88,
          "data": {
            "text/plain": [
              "(126.89058585539381, 9.24735854148215)"
            ]
          },
          "metadata": {}
        }
      ],
      "execution_count": 88,
      "metadata": {
        "collapsed": true,
        "outputExpanded": false,
        "jupyter": {
          "source_hidden": false,
          "outputs_hidden": false
        },
        "nteract": {
          "transient": {
            "deleting": false
          }
        },
        "execution": {
          "iopub.status.busy": "2020-06-06T17:25:46.984Z",
          "iopub.execute_input": "2020-06-06T17:25:46.991Z",
          "iopub.status.idle": "2020-06-06T17:25:47.001Z",
          "shell.execute_reply": "2020-06-06T17:25:47.005Z"
        }
      }
    },
    {
      "cell_type": "code",
      "source": [],
      "outputs": [],
      "execution_count": null,
      "metadata": {
        "collapsed": true,
        "outputExpanded": false,
        "jupyter": {
          "source_hidden": false,
          "outputs_hidden": false
        },
        "nteract": {
          "transient": {
            "deleting": false
          }
        }
      }
    }
  ],
  "metadata": {
    "kernel_info": {
      "name": "python3"
    },
    "language_info": {
      "name": "python",
      "version": "3.7.6",
      "mimetype": "text/x-python",
      "codemirror_mode": {
        "name": "ipython",
        "version": 3
      },
      "pygments_lexer": "ipython3",
      "nbconvert_exporter": "python",
      "file_extension": ".py"
    },
    "kernelspec": {
      "argv": [
        "/Users/alex/opt/anaconda3/bin/python",
        "-m",
        "ipykernel_launcher",
        "-f",
        "{connection_file}"
      ],
      "display_name": "Python 3",
      "language": "python",
      "name": "python3"
    },
    "nteract": {
      "version": "0.23.1"
    }
  },
  "nbformat": 4,
  "nbformat_minor": 0
}