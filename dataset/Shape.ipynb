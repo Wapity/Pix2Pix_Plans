{
  "cells": [
    {
      "cell_type": "code",
      "source": [
        "import cv2\n",
        "from matplotlib import pyplot as plt\n",
        "import numpy as np\n",
        "%matplotlib inline"
      ],
      "outputs": [],
      "execution_count": 1,
      "metadata": {
        "collapsed": true,
        "outputExpanded": false,
        "jupyter": {
          "source_hidden": false,
          "outputs_hidden": false
        },
        "nteract": {
          "transient": {
            "deleting": false
          }
        },
        "execution": {
          "iopub.status.busy": "2020-04-18T14:27:38.603Z",
          "iopub.execute_input": "2020-04-18T14:27:38.705Z",
          "iopub.status.idle": "2020-04-18T14:27:39.274Z",
          "shell.execute_reply": "2020-04-18T14:27:39.275Z"
        }
      }
    },
    {
      "cell_type": "code",
      "source": [
        "\n",
        "def process(path):\n",
        "    image = cv2.imread(path,cv2.IMREAD_GRAYSCALE).astype('float32')/255\n",
        "    shape_i = np.ones((64,64))\n",
        "    for i in range(64):\n",
        "        idxs = np.where(image[i,:]<.9)[0]\n",
        "        if len(idxs):\n",
        "            shape_i[i,min(idxs):max(idxs)+1] = (max(idxs)-min(idxs)+1)*[0.]\n",
        "\n",
        "    shape_j = np.ones((64,64))\n",
        "    for j in range(64):\n",
        "        idxs = np.where(image[:,j]<.9)[0]\n",
        "        if len(idxs):\n",
        "            shape_j[min(idxs):max(idxs)+1,j] = (max(idxs)-min(idxs)+1)*[0.]\n",
        "\n",
        "    shape = 1-(1-shape_i)*(1-shape_j)\n",
        "    shape = np.stack(3*[shape],axis=2)\n",
        "    image = cv2.imread(path).astype('float32')/255\n",
        "    \n",
        "    new = np.zeros((64,64,3))\n",
        "\n",
        "    indices_i,indices_j  = np.where(image[:,:,0]<0.05)\n",
        "    new[indices_i,indices_j,0] = 1\n",
        "    new[indices_i,indices_j,1] = 1\n",
        "    new[indices_i,indices_j,2] = 0\n",
        "\n",
        "    indices_black_i,indices_black_j = np.where(image[:,:,1]>0.75)\n",
        "\n",
        "    new[indices_black_i,indices_black_j,0] = 1\n",
        "    new[indices_black_i,indices_black_j,1] = 1\n",
        "    new[indices_black_i,indices_black_j,2] = 1\n",
        "\n",
        "    indices_red_i, indices_red_j = np.where((image[:,:,1]<0.9)& (image[:,:,2]<0.7))\n",
        "\n",
        "    new[indices_red_i,indices_red_j,0] = 1\n",
        "    new[indices_red_i,indices_red_j,1] = 0\n",
        "    new[indices_red_i,indices_red_j,2] = 0\n",
        "    for i in range(64):\n",
        "        for j in range(64):\n",
        "            if sum(new[i,j,:])==0:\n",
        "                new[i,j,:]=[1,0,0]\n",
        "            elif sum(new[i,j,:])==1:\n",
        "                new[i,j,:]=[0,0,0]\n",
        "\n",
        "    return image, new, shape\n",
        "\n",
        "\n",
        "path = 'dataset/sample2.png'\n",
        "out =process(path)\n",
        "for img in out:\n",
        "    plt.imshow(img)\n",
        "    plt.show()\n"
      ],
      "outputs": [
        {
          "output_type": "display_data",
          "data": {
            "text/plain": [
              "<Figure size 432x288 with 1 Axes>"
            ],
            "image/png": "[encoded data removed]"
          },
          "metadata": {
            "needs_background": "light"
          }
        },
        {
          "output_type": "display_data",
          "data": {
            "text/plain": [
              "<Figure size 432x288 with 1 Axes>"
            ],
            "image/png": "[encoded data removed]"
          },
          "metadata": {
            "needs_background": "light"
          }
        },
        {
          "output_type": "display_data",
          "data": {
            "text/plain": [
              "<Figure size 432x288 with 1 Axes>"
            ],
            "image/png": "[encoded data removed]"
          },
          "metadata": {
            "needs_background": "light"
          }
        }
      ],
      "execution_count": 28,
      "metadata": {
        "collapsed": true,
        "outputExpanded": false,
        "jupyter": {
          "source_hidden": false,
          "outputs_hidden": false
        },
        "nteract": {
          "transient": {
            "deleting": false
          }
        },
        "execution": {
          "iopub.status.busy": "2020-04-18T14:35:29.554Z",
          "iopub.execute_input": "2020-04-18T14:35:29.558Z",
          "iopub.status.idle": "2020-04-18T14:35:29.843Z",
          "shell.execute_reply": "2020-04-18T14:35:29.850Z"
        }
      }
    },
    {
      "cell_type": "code",
      "source": [
        "from os import listdir\n",
        "import os\n",
        "from os.path import isfile, join\n",
        "\n",
        "#os.makedirs('dataset/images')\n",
        "#os.makedirs('dataset/images/lines')\n",
        "os.makedirs('dataset/images/lines/lines')\n",
        "#os.makedirs('dataset/images/shapes')\n",
        "os.makedirs('dataset/images/shapes/shapes')\n",
        "mypath = 'dataset/images64/'\n",
        "onlyfiles = [join(mypath, f) for f in listdir(mypath) if isfile(join(mypath, f)) and f[-1]=='g']"
      ],
      "outputs": [],
      "execution_count": 3,
      "metadata": {
        "collapsed": true,
        "outputExpanded": false,
        "jupyter": {
          "source_hidden": false,
          "outputs_hidden": false
        },
        "nteract": {
          "transient": {
            "deleting": false
          }
        },
        "execution": {
          "iopub.status.busy": "2020-04-18T14:27:39.631Z",
          "iopub.execute_input": "2020-04-18T14:27:39.633Z",
          "iopub.status.idle": "2020-04-18T14:27:39.717Z",
          "shell.execute_reply": "2020-04-18T14:27:39.724Z"
        }
      }
    },
    {
      "cell_type": "code",
      "source": [
        "for idx, path in enumerate(onlyfiles):\n",
        "    image, new, shape = process(path)\n",
        "    plt.imsave('dataset/images/lines/lines/line_{}.png'.format(idx), new)\n",
        "    plt.imsave('dataset/images/shapes/shapes/shape_{}.png'.format(idx), shape)\n",
        "    "
      ],
      "outputs": [],
      "execution_count": 4,
      "metadata": {
        "collapsed": true,
        "outputExpanded": false,
        "jupyter": {
          "source_hidden": false,
          "outputs_hidden": false
        },
        "nteract": {
          "transient": {
            "deleting": false
          }
        },
        "execution": {
          "iopub.status.busy": "2020-04-18T14:27:39.756Z",
          "iopub.execute_input": "2020-04-18T14:27:39.759Z",
          "iopub.status.idle": "2020-04-18T14:31:03.531Z",
          "shell.execute_reply": "2020-04-18T14:31:03.533Z"
        }
      }
    },
    {
      "cell_type": "code",
      "source": [
        "import torchvision\n",
        "import torch\n",
        "from torchvision import transforms\n",
        "preprocessing = transforms.Compose([\n",
        "    transforms.Resize(64),\n",
        "    transforms.ToTensor(),\n",
        "    transforms.Normalize((0.5, 0.5, 0.5), (0.5, 0.5, 0.5)),\n",
        "])\n",
        "lines = torchvision.datasets.ImageFolder('dataset/images/lines/',\n",
        "                                        transform=preprocessing)\n",
        "\n",
        "lines = torch.utils.data.DataLoader(lines,\n",
        "                                   batch_size=64,\n",
        "                                   shuffle=False,\n",
        "                                   drop_last=True,\n",
        "                                   num_workers=0)\n",
        "\n",
        "\n",
        "preprocessing = transforms.Compose([\n",
        "    transforms.Grayscale(num_output_channels=1),\n",
        "    transforms.Resize(64),\n",
        "    transforms.ToTensor(),\n",
        "])\n",
        "shapes = torchvision.datasets.ImageFolder('dataset/images/shapes/',\n",
        "                                        transform=preprocessing)\n",
        "\n",
        "shapes = torch.utils.data.DataLoader(shapes,\n",
        "                                   batch_size=64,\n",
        "                                   shuffle=False,\n",
        "                                   drop_last=True,\n",
        "                                   num_workers=0)"
      ],
      "outputs": [],
      "execution_count": 5,
      "metadata": {
        "collapsed": true,
        "outputExpanded": false,
        "jupyter": {
          "source_hidden": false,
          "outputs_hidden": false
        },
        "nteract": {
          "transient": {
            "deleting": false
          }
        },
        "execution": {
          "iopub.status.busy": "2020-04-18T14:31:03.538Z",
          "iopub.execute_input": "2020-04-18T14:31:03.540Z",
          "iopub.status.idle": "2020-04-18T14:31:04.201Z",
          "shell.execute_reply": "2020-04-18T14:31:04.210Z"
        }
      }
    },
    {
      "cell_type": "code",
      "source": [
        "b_lines = next(iter(lines))[0]\n",
        "b_shapes = next(iter(shapes))[0]"
      ],
      "outputs": [],
      "execution_count": 6,
      "metadata": {
        "collapsed": true,
        "outputExpanded": false,
        "jupyter": {
          "source_hidden": false,
          "outputs_hidden": false
        },
        "nteract": {
          "transient": {
            "deleting": false
          }
        },
        "execution": {
          "iopub.status.busy": "2020-04-18T14:31:04.204Z",
          "iopub.execute_input": "2020-04-18T14:31:04.206Z",
          "iopub.status.idle": "2020-04-18T14:31:04.272Z",
          "shell.execute_reply": "2020-04-18T14:31:04.283Z"
        }
      }
    },
    {
      "cell_type": "code",
      "source": [
        "nrow=8\n",
        "normalize=False\n",
        "padding=2\n",
        "import torchvision.utils as vutils\n",
        "samples = b_lines\n",
        "i = vutils.make_grid(samples, normalize=normalize, padding=padding)\n",
        "i = np.transpose(i.cpu().detach(), (1, 2, 0))\n",
        "fig = plt.figure(figsize=(8, 8))\n",
        "plt.axis(\"off\")\n",
        "plt.imshow(i)\n",
        "plt.show()"
      ],
      "outputs": [
        {
          "output_type": "stream",
          "name": "stderr",
          "text": [
            "Clipping input data to the valid range for imshow with RGB data ([0..1] for floats or [0..255] for integers).\n"
          ]
        },
        {
          "output_type": "display_data",
          "data": {
            "text/plain": [
              "<Figure size 576x576 with 1 Axes>"
            ],
            "image/png": "[encoded data removed]"
          },
          "metadata": {
            "needs_background": "light"
          }
        }
      ],
      "execution_count": 7,
      "metadata": {
        "collapsed": true,
        "outputExpanded": false,
        "jupyter": {
          "source_hidden": false,
          "outputs_hidden": false
        },
        "nteract": {
          "transient": {
            "deleting": false
          }
        },
        "execution": {
          "iopub.status.busy": "2020-04-18T14:31:04.276Z",
          "iopub.execute_input": "2020-04-18T14:31:04.278Z",
          "iopub.status.idle": "2020-04-18T14:31:04.367Z",
          "shell.execute_reply": "2020-04-18T14:31:04.388Z"
        }
      }
    },
    {
      "cell_type": "code",
      "source": [
        "nrow=8\n",
        "normalize=False\n",
        "padding=2\n",
        "import torchvision.utils as vutils\n",
        "samples = b_shapes\n",
        "i = vutils.make_grid(samples, normalize=normalize, padding=padding)\n",
        "i = np.transpose(i.cpu().detach(), (1, 2, 0))\n",
        "fig = plt.figure(figsize=(8, 8))\n",
        "plt.axis(\"off\")\n",
        "plt.imshow(i)\n",
        "plt.show()"
      ],
      "outputs": [
        {
          "output_type": "display_data",
          "data": {
            "text/plain": [
              "<Figure size 576x576 with 1 Axes>"
            ],
            "image/png": "[encoded data removed]"
          },
          "metadata": {
            "needs_background": "light"
          }
        }
      ],
      "execution_count": 8,
      "metadata": {
        "collapsed": true,
        "outputExpanded": false,
        "jupyter": {
          "source_hidden": false,
          "outputs_hidden": false
        },
        "nteract": {
          "transient": {
            "deleting": false
          }
        },
        "execution": {
          "iopub.status.busy": "2020-04-18T14:31:04.385Z",
          "iopub.execute_input": "2020-04-18T14:31:04.387Z",
          "iopub.status.idle": "2020-04-18T14:31:04.448Z",
          "shell.execute_reply": "2020-04-18T14:31:04.453Z"
        }
      }
    },
    {
      "cell_type": "code",
      "source": [],
      "outputs": [],
      "execution_count": null,
      "metadata": {
        "collapsed": true,
        "outputExpanded": false,
        "jupyter": {
          "source_hidden": false,
          "outputs_hidden": false
        },
        "nteract": {
          "transient": {
            "deleting": false
          }
        }
      }
    }
  ],
  "metadata": {
    "kernel_info": {
      "name": "python3"
    },
    "language_info": {
      "name": "python",
      "version": "3.7.6",
      "mimetype": "text/x-python",
      "codemirror_mode": {
        "name": "ipython",
        "version": 3
      },
      "pygments_lexer": "ipython3",
      "nbconvert_exporter": "python",
      "file_extension": ".py"
    },
    "kernelspec": {
      "argv": [
        "/Users/alex/opt/anaconda3/bin/python",
        "-m",
        "ipykernel_launcher",
        "-f",
        "{connection_file}"
      ],
      "display_name": "Python 3",
      "language": "python",
      "name": "python3"
    },
    "nteract": {
      "version": "0.22.4"
    }
  },
  "nbformat": 4,
  "nbformat_minor": 0
}