{
  "cells": [
    {
      "cell_type": "code",
      "source": [
        "import cv2\n",
        "from matplotlib import pyplot as plt\n",
        "import numpy as np\n",
        "%matplotlib inline"
      ],
      "outputs": [],
      "execution_count": 1,
      "metadata": {
        "collapsed": true,
        "outputExpanded": false,
        "jupyter": {
          "source_hidden": false,
          "outputs_hidden": false
        },
        "nteract": {
          "transient": {
            "deleting": false
          }
        },
        "execution": {
          "iopub.status.busy": "2020-04-17T08:32:11.446Z",
          "iopub.execute_input": "2020-04-17T08:32:11.447Z",
          "iopub.status.idle": "2020-04-17T08:32:12.144Z",
          "shell.execute_reply": "2020-04-17T08:32:12.148Z"
        }
      }
    },
    {
      "cell_type": "code",
      "source": [
        "image = cv2.imread('sample2.png',cv2.IMREAD_GRAYSCALE).astype('float32')/255\n",
        "shape_i = np.ones((64,64))\n",
        "for i in range(64):\n",
        "    idxs = np.where(image[i,:]<.9)[0]\n",
        "    if len(idxs):\n",
        "        shape_i[i,min(idxs):max(idxs)+1] = (max(idxs)-min(idxs)+1)*[0.]\n",
        "\n",
        "shape_j = np.ones((64,64))\n",
        "for j in range(64):\n",
        "    idxs = np.where(image[:,j]<.9)[0]\n",
        "    if len(idxs):\n",
        "        shape_j[min(idxs):max(idxs)+1,j] = (max(idxs)-min(idxs)+1)*[0.]\n",
        "        \n",
        "shape = 1-(1-shape_i)*(1-shape_j)\n",
        "plt.imshow(np.stack(3*[image],axis=2))\n",
        "plt.show()\n",
        "plt.imshow(np.stack(3*[shape],axis=2))\n",
        "plt.show()\n"
      ],
      "outputs": [
        {
          "output_type": "display_data",
          "data": {
            "text/plain": [
              "<Figure size 432x288 with 1 Axes>"
            ],
            "image/png": "[encoded data removed]"
          },
          "metadata": {
            "needs_background": "light"
          }
        },
        {
          "output_type": "display_data",
          "data": {
            "text/plain": [
              "<Figure size 432x288 with 1 Axes>"
            ],
            "image/png": "[encoded data removed]"
          },
          "metadata": {
            "needs_background": "light"
          }
        }
      ],
      "execution_count": 2,
      "metadata": {
        "collapsed": true,
        "outputExpanded": false,
        "jupyter": {
          "source_hidden": false,
          "outputs_hidden": false
        },
        "nteract": {
          "transient": {
            "deleting": false
          }
        },
        "execution": {
          "iopub.status.busy": "2020-04-17T08:32:12.146Z",
          "iopub.execute_input": "2020-04-17T08:32:12.166Z",
          "iopub.status.idle": "2020-04-17T08:32:12.381Z",
          "shell.execute_reply": "2020-04-17T08:32:12.388Z"
        }
      }
    },
    {
      "cell_type": "code",
      "source": [
        "image = cv2.imread('sample2.png',cv2.IMREAD_GRAYSCALE).astype('float32')/255\n",
        "plt.imshow(np.stack(3*[image],axis=2))\n",
        "plt.show()\n",
        "\n",
        "new = np.zeros((64,64,3))\n",
        "indices_white_i,indices_white_j  = np.where(image<0.6)\n",
        "new[indices_white_i,indices_white_j,:] = 0\n",
        "indices_black_i,indices_black_j = np.where(image>0.95)\n",
        "new[indices_black_i,indices_black_j,:] = 1\n",
        "indices_red_i, indices_red_j = np.where((image>0.8)& (image<0.90))\n",
        "new[indices_red_i,indices_red_j,0] = 1\n",
        "\n",
        "image[image<0.6] = 0\n",
        "plt.imshow(np.stack(3*[image],axis=2))\n",
        "plt.show()\n",
        "plt.imshow(new)\n",
        "plt.show()"
      ],
      "outputs": [
        {
          "output_type": "display_data",
          "data": {
            "text/plain": [
              "<Figure size 432x288 with 1 Axes>"
            ],
            "image/png": "[encoded data removed]"
          },
          "metadata": {
            "needs_background": "light"
          }
        },
        {
          "output_type": "display_data",
          "data": {
            "text/plain": [
              "<Figure size 432x288 with 1 Axes>"
            ],
            "image/png": "[encoded data removed]"
          },
          "metadata": {
            "needs_background": "light"
          }
        },
        {
          "output_type": "display_data",
          "data": {
            "text/plain": [
              "<Figure size 432x288 with 1 Axes>"
            ],
            "image/png": "[encoded data removed]"
          },
          "metadata": {
            "needs_background": "light"
          }
        }
      ],
      "execution_count": 3,
      "metadata": {
        "collapsed": true,
        "outputExpanded": false,
        "jupyter": {
          "source_hidden": false,
          "outputs_hidden": false
        },
        "nteract": {
          "transient": {
            "deleting": false
          }
        },
        "execution": {
          "iopub.status.busy": "2020-04-17T08:32:12.384Z",
          "iopub.execute_input": "2020-04-17T08:32:12.386Z",
          "iopub.status.idle": "2020-04-17T08:32:12.679Z",
          "shell.execute_reply": "2020-04-17T08:32:12.680Z"
        }
      }
    },
    {
      "cell_type": "code",
      "source": [
        "image = cv2.imread('sample2.png').astype('float32')/255\n",
        "plt.imshow(image)\n",
        "plt.show()\n",
        "\n",
        "new = np.zeros((64,64,3))\n",
        "\n",
        "indices_white_i,indices_white_j  = np.where(image[:,:,0]<0.2)\n",
        "new[indices_white_i,indices_white_j,:] = 0\n",
        "\n",
        "indices_black_i,indices_black_j = np.where(image[:,:,1]>0.71)\n",
        "\n",
        "new[indices_black_i,indices_black_j,:] = 1\n",
        "\n",
        "indices_red_i, indices_red_j = np.where((image[:,:,0]>0.72)& (image[:,:,1]<0.9)& (image[:,:,2]<0.9))\n",
        "\n",
        "new[indices_red_i,indices_red_j,0] = 1\n",
        "new[indices_red_i,indices_red_j,1:] = 0\n",
        "\n",
        "plt.imshow(new)\n",
        "plt.show()"
      ],
      "outputs": [
        {
          "output_type": "display_data",
          "data": {
            "text/plain": [
              "<Figure size 432x288 with 1 Axes>"
            ],
            "image/png": "[encoded data removed]"
          },
          "metadata": {
            "needs_background": "light"
          }
        },
        {
          "output_type": "display_data",
          "data": {
            "text/plain": [
              "<Figure size 432x288 with 1 Axes>"
            ],
            "image/png": "[encoded data removed]"
          },
          "metadata": {
            "needs_background": "light"
          }
        }
      ],
      "execution_count": 4,
      "metadata": {
        "collapsed": true,
        "outputExpanded": false,
        "jupyter": {
          "source_hidden": false,
          "outputs_hidden": false
        },
        "nteract": {
          "transient": {
            "deleting": false
          }
        },
        "execution": {
          "iopub.status.busy": "2020-04-17T08:32:12.683Z",
          "iopub.execute_input": "2020-04-17T08:32:12.684Z",
          "iopub.status.idle": "2020-04-17T08:32:12.877Z",
          "shell.execute_reply": "2020-04-17T08:32:12.879Z"
        }
      }
    },
    {
      "cell_type": "code",
      "source": [],
      "outputs": [],
      "execution_count": null,
      "metadata": {
        "collapsed": true,
        "outputExpanded": false,
        "jupyter": {
          "source_hidden": false,
          "outputs_hidden": false
        },
        "nteract": {
          "transient": {
            "deleting": false
          }
        }
      }
    }
  ],
  "metadata": {
    "kernel_info": {
      "name": "python3"
    },
    "language_info": {
      "name": "python",
      "version": "3.7.6",
      "mimetype": "text/x-python",
      "codemirror_mode": {
        "name": "ipython",
        "version": 3
      },
      "pygments_lexer": "ipython3",
      "nbconvert_exporter": "python",
      "file_extension": ".py"
    },
    "kernelspec": {
      "argv": [
        "/Users/alex/opt/anaconda3/bin/python",
        "-m",
        "ipykernel_launcher",
        "-f",
        "{connection_file}"
      ],
      "display_name": "Python 3",
      "language": "python",
      "name": "python3"
    },
    "nteract": {
      "version": "0.22.4"
    }
  },
  "nbformat": 4,
  "nbformat_minor": 0
}