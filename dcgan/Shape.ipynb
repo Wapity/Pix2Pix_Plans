{
  "cells": [
    {
      "cell_type": "code",
      "source": [
        "import cv2\n",
        "from matplotlib import pyplot as plt\n",
        "import numpy as np\n",
        "%matplotlib inline"
      ],
      "outputs": [],
      "execution_count": 29,
      "metadata": {
        "collapsed": true,
        "outputExpanded": false,
        "jupyter": {
          "source_hidden": false,
          "outputs_hidden": false
        },
        "nteract": {
          "transient": {
            "deleting": false
          }
        },
        "execution": {
          "iopub.status.busy": "2020-04-16T18:22:11.789Z",
          "iopub.execute_input": "2020-04-16T18:22:11.791Z",
          "iopub.status.idle": "2020-04-16T18:22:11.794Z",
          "shell.execute_reply": "2020-04-16T18:22:11.796Z"
        }
      }
    },
    {
      "cell_type": "code",
      "source": [
        "image = cv2.imread('sample2.png',cv2.IMREAD_GRAYSCALE).astype('float32')/255\n",
        "shape_i = np.ones((64,64))\n",
        "for i in range(64):\n",
        "    idxs = np.where(image[i,:]<.9)[0]\n",
        "    if len(idxs):\n",
        "        shape_i[i,min(idxs):max(idxs)+1] = (max(idxs)-min(idxs)+1)*[0.]\n",
        "shape_j = np.ones((64,64))\n",
        "for j in range(64):\n",
        "    idxs = np.where(image[:,j]<.9)[0]\n",
        "    if len(idxs):\n",
        "        shape_j[min(idxs):max(idxs)+1,j] = (max(idxs)-min(idxs)+1)*[0.]\n",
        "shape = 1-(1-shape_i)*(1-shape_j)\n",
        "plt.imshow(np.stack(3*[image],axis=2))\n",
        "plt.show()\n",
        "plt.imshow(np.stack(3*[shape],axis=2))\n",
        "plt.show()\n"
      ],
      "outputs": [
        {
          "output_type": "display_data",
          "data": {
            "text/plain": [
              "<Figure size 432x288 with 1 Axes>"
            ],
            "image/png": "[encoded data removed]"
          },
          "metadata": {
            "needs_background": "light"
          }
        },
        {
          "output_type": "display_data",
          "data": {
            "text/plain": [
              "<Figure size 432x288 with 1 Axes>"
            ],
            "image/png": "[encoded data removed]"
          },
          "metadata": {
            "needs_background": "light"
          }
        },
        {
          "output_type": "display_data",
          "data": {
            "text/plain": [
              "<Figure size 432x288 with 1 Axes>"
            ],
            "image/png": "[encoded data removed]"
          },
          "metadata": {
            "needs_background": "light"
          }
        }
      ],
      "execution_count": 114,
      "metadata": {
        "collapsed": true,
        "outputExpanded": false,
        "jupyter": {
          "source_hidden": false,
          "outputs_hidden": false
        },
        "nteract": {
          "transient": {
            "deleting": false
          }
        },
        "execution": {
          "iopub.status.busy": "2020-04-16T18:47:56.451Z",
          "iopub.execute_input": "2020-04-16T18:47:56.452Z",
          "iopub.status.idle": "2020-04-16T18:47:56.742Z",
          "shell.execute_reply": "2020-04-16T18:47:56.747Z"
        }
      }
    },
    {
      "cell_type": "code",
      "source": [
        "image = cv2.imread('sample2.png',1).astype('float32')/255\n",
        "shape_i = np.ones((3,64,64))\n",
        "\n"
      ],
      "outputs": [],
      "execution_count": 116,
      "metadata": {
        "collapsed": true,
        "outputExpanded": false,
        "jupyter": {
          "source_hidden": false,
          "outputs_hidden": false
        },
        "nteract": {
          "transient": {
            "deleting": false
          }
        },
        "execution": {
          "iopub.status.busy": "2020-04-16T18:50:17.648Z",
          "iopub.execute_input": "2020-04-16T18:50:17.650Z",
          "iopub.status.idle": "2020-04-16T18:50:17.652Z",
          "shell.execute_reply": "2020-04-16T18:50:17.655Z"
        }
      }
    },
    {
      "cell_type": "code",
      "source": [],
      "outputs": [],
      "execution_count": null,
      "metadata": {
        "collapsed": true,
        "outputExpanded": false,
        "jupyter": {
          "source_hidden": false,
          "outputs_hidden": false
        },
        "nteract": {
          "transient": {
            "deleting": false
          }
        }
      }
    }
  ],
  "metadata": {
    "kernel_info": {
      "name": "python3"
    },
    "language_info": {
      "name": "python",
      "version": "3.7.6",
      "mimetype": "text/x-python",
      "codemirror_mode": {
        "name": "ipython",
        "version": 3
      },
      "pygments_lexer": "ipython3",
      "nbconvert_exporter": "python",
      "file_extension": ".py"
    },
    "kernelspec": {
      "argv": [
        "/Users/alex/opt/anaconda3/bin/python",
        "-m",
        "ipykernel_launcher",
        "-f",
        "{connection_file}"
      ],
      "display_name": "Python 3",
      "language": "python",
      "name": "python3"
    },
    "nteract": {
      "version": "0.22.4"
    }
  },
  "nbformat": 4,
  "nbformat_minor": 0
}